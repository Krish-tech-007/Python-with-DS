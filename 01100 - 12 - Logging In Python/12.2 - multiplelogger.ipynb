{
 "cells": [
  {
   "cell_type": "markdown",
   "id": "32f48b15",
   "metadata": {},
   "source": [
    "### Logging with Multiple Loggers"
   ]
  },
  {
   "cell_type": "markdown",
   "id": "bc92f14f",
   "metadata": {},
   "source": [
    "We can create multiple loggers for different part of our application."
   ]
  },
  {
   "cell_type": "code",
   "execution_count": 1,
   "id": "bdc6b783",
   "metadata": {},
   "outputs": [],
   "source": [
    "import logging "
   ]
  },
  {
   "cell_type": "code",
   "execution_count": 4,
   "id": "df221abb",
   "metadata": {},
   "outputs": [],
   "source": [
    "# Create a logger for module1\n",
    "logger1 = logging.getLogger(\"module1\")\n",
    "logger1.setLevel(logging.DEBUG)\n",
    "\n",
    "# Create a logger for module2\n",
    "logger2 = logging.getLogger(\"module2\")\n",
    "logger2.setLevel(logging.WARNING)\n",
    "\n",
    "# Configure logging settings\n",
    "logging.basicConfig(\n",
    "    level=logging.DEBUG,\n",
    "    format='%(asctime)s - %(name)s - %(levelname)s - %(message)s',\n",
    "    datefmt='%Y-%m-%d %H:%M:%S'\n",
    ")"
   ]
  },
  {
   "cell_type": "code",
   "execution_count": null,
   "id": "4f09c3d8",
   "metadata": {},
   "outputs": [
    {
     "name": "stderr",
     "output_type": "stream",
     "text": [
      "2025-06-05 22:21:03 - module1 - DEBUG - This is a debug message for module1\n",
      "2025-06-05 22:21:03 - module2 - WARNING - This is warning message for module2\n",
      "2025-06-05 22:21:03 - module2 - ERROR - This is an error message for module2\n"
     ]
    }
   ],
   "source": [
    "# log messages with different loggers\n",
    "logger1.debug(\"This is a debug message for module1\")\n",
    "logger2.warning(\"This is warning message for module2\")\n",
    "logger2.error(\"This is an error message for module2\")\n",
    "\n",
    "## Instead of ROOT, module1 or module2 is being displayed now\n"
   ]
  }
 ],
 "metadata": {
  "kernelspec": {
   "display_name": "Python 3",
   "language": "python",
   "name": "python3"
  },
  "language_info": {
   "codemirror_mode": {
    "name": "ipython",
    "version": 3
   },
   "file_extension": ".py",
   "mimetype": "text/x-python",
   "name": "python",
   "nbconvert_exporter": "python",
   "pygments_lexer": "ipython3",
   "version": "3.10.0"
  }
 },
 "nbformat": 4,
 "nbformat_minor": 5
}
