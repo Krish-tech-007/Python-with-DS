{
 "cells": [
  {
   "cell_type": "markdown",
   "id": "72e8a0e2",
   "metadata": {},
   "source": [
    "### Standard Library Overview"
   ]
  },
  {
   "cell_type": "markdown",
   "id": "e696e541",
   "metadata": {},
   "source": [
    "Python's Standard Library is a vast collection of modules and packages that comes bundled with Python, providing a wide range of functionalities. "
   ]
  },
  {
   "cell_type": "code",
   "execution_count": null,
   "id": "73106b35",
   "metadata": {},
   "outputs": [
    {
     "name": "stdout",
     "output_type": "stream",
     "text": [
      "array('i', [1, 2, 3, 4])\n"
     ]
    }
   ],
   "source": [
    "import array \n",
    "arr = array.array('i',[1,2,3,4]) #i means integer type code\n",
    "print(arr)"
   ]
  },
  {
   "cell_type": "code",
   "execution_count": 8,
   "id": "2896362d",
   "metadata": {},
   "outputs": [
    {
     "name": "stdout",
     "output_type": "stream",
     "text": [
      "10\n",
      "a\n"
     ]
    }
   ],
   "source": [
    "import random\n",
    "print(random.randint(1,10)) #Generates a random integer in the specified range\n",
    "print(random.choice(['a','b','b'])) #Chooses an element randomly from a collection of elements"
   ]
  },
  {
   "cell_type": "code",
   "execution_count": null,
   "id": "f5869e95",
   "metadata": {},
   "outputs": [
    {
     "name": "stdout",
     "output_type": "stream",
     "text": [
      "d:\\Python Data Science ML Bootcamp Krish\\Python\\5 - Modules\n"
     ]
    }
   ],
   "source": [
    "import os #Used for file and directory access\n",
    "#Printing the directory in which we are currently working in\n",
    "print(os.getcwd()) #get current working directory\n",
    "#Creating a folder\n",
    "os.mkdir('test-directory') #make directory\n",
    "#Creating a file"
   ]
  },
  {
   "cell_type": "code",
   "execution_count": null,
   "id": "ad4c6574",
   "metadata": {},
   "outputs": [
    {
     "data": {
      "text/plain": [
       "'destination.txt'"
      ]
     },
     "execution_count": 12,
     "metadata": {},
     "output_type": "execute_result"
    }
   ],
   "source": [
    "## High level operations of files and collection of files\n",
    "import shutil\n",
    "shutil.copyfile('source.txt','destination.txt') #Copies source file into destintation file"
   ]
  },
  {
   "cell_type": "code",
   "execution_count": 3,
   "id": "941cf56e",
   "metadata": {},
   "outputs": [
    {
     "name": "stdout",
     "output_type": "stream",
     "text": [
      "{\"name\": \"Krish\", \"age\": 19}\n",
      "<class 'str'>\n",
      "{'name': 'Krish', 'age': 19}\n",
      "<class 'dict'>\n"
     ]
    }
   ],
   "source": [
    "## Data Serialization\n",
    "import json #To work with json\n",
    "#JSON stands for JavaScript Object Notation\n",
    "#It is the standard in which we recieve responses from APIs, etc\n",
    "data = {\n",
    "    'name':'Krish',\n",
    "    'age':19,\n",
    "}\n",
    "## Convert dictionary into JSON\n",
    "json_string = json.dumps(data) #We will be getting the JSON in the form of a string\n",
    "print(json_string)\n",
    "print(type(json_string))\n",
    "\n",
    "## Converting JSON back to dictionary\n",
    "parsed_data = json.loads(json_string)\n",
    "print(parsed_data)\n",
    "print(type(parsed_data))"
   ]
  },
  {
   "cell_type": "code",
   "execution_count": 5,
   "id": "d2a66067",
   "metadata": {},
   "outputs": [
    {
     "name": "stdout",
     "output_type": "stream",
     "text": [
      "['name', 'age']\n",
      "['Krish', '19']\n"
     ]
    }
   ],
   "source": [
    "import csv\n",
    "#Creating a csv file and inserting two records\n",
    "with open('example.csv',mode='w', newline='') as file: #example.csv is the filename and the mode we are opening it in is w meaning write mode\n",
    "    writer = csv.writer(file)\n",
    "    writer.writerow(['name','age'])\n",
    "    writer.writerow(['Krish', 19])\n",
    "\n",
    "with open('example.csv', mode='r') as file:\n",
    "    reader = csv.reader(file)\n",
    "    #Since we will be having multiple rows\n",
    "    for row in reader:\n",
    "        print(row)\n"
   ]
  },
  {
   "cell_type": "code",
   "execution_count": 7,
   "id": "aeed9bd1",
   "metadata": {},
   "outputs": [
    {
     "name": "stdout",
     "output_type": "stream",
     "text": [
      "2025-04-27 23:59:20.519254\n",
      "2025-04-26 23:59:20.519254\n"
     ]
    }
   ],
   "source": [
    "from datetime import datetime,timedelta\n",
    "\n",
    "now = datetime.now()\n",
    "print(now)\n",
    "\n",
    "yesterday = now - timedelta(days = 1) #One day back, what would be the time\n",
    "print(yesterday)"
   ]
  },
  {
   "cell_type": "code",
   "execution_count": 8,
   "id": "6faa9886",
   "metadata": {},
   "outputs": [
    {
     "name": "stdout",
     "output_type": "stream",
     "text": [
      "1745778742.6660347\n",
      "1745778747.6828098\n"
     ]
    }
   ],
   "source": [
    "#Making the program sleep for sometime\n",
    "import time\n",
    "print(time.time())\n",
    "time.sleep(5)\n",
    "print(time.time())"
   ]
  },
  {
   "cell_type": "code",
   "execution_count": null,
   "id": "a30250cc",
   "metadata": {},
   "outputs": [
    {
     "name": "stdout",
     "output_type": "stream",
     "text": [
      "123\n"
     ]
    }
   ],
   "source": [
    "## Regular expression \n",
    "import re\n",
    "# Helps match a specific expression in a sentence, we can do it on datasets also\n",
    "\n",
    "# Defining a pattern\n",
    "pattern = r'\\d+' #d meaning digits\n",
    "\n",
    "text = \"There are 123 apples 456\" #Stops at 123 as the match is successfully done there\n",
    "\n",
    "# Checking if the text matches the pattern using re.search() method\n",
    "match = re.search(pattern, text)\n",
    "print(match.group())"
   ]
  },
  {
   "cell_type": "markdown",
   "id": "6cfc8f91",
   "metadata": {},
   "source": [
    "### Conclusion"
   ]
  },
  {
   "cell_type": "markdown",
   "id": "4df1dcd5",
   "metadata": {},
   "source": [
    "Python's Standard Library is extensive and provides tools for a wide variety of tasks from file handling to web services, from data serialization to concurrent execution.  \n",
    "By familariasing ourselves with the modules and packages in the Python's Standard Library, we can enhance our ability to write efficient code and effective Python Programs"
   ]
  }
 ],
 "metadata": {
  "kernelspec": {
   "display_name": "Python 3",
   "language": "python",
   "name": "python3"
  },
  "language_info": {
   "codemirror_mode": {
    "name": "ipython",
    "version": 3
   },
   "file_extension": ".py",
   "mimetype": "text/x-python",
   "name": "python",
   "nbconvert_exporter": "python",
   "pygments_lexer": "ipython3",
   "version": "3.10.0"
  }
 },
 "nbformat": 4,
 "nbformat_minor": 5
}
