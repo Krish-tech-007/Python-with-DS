{
 "cells": [
  {
   "cell_type": "markdown",
   "id": "dab6bfef",
   "metadata": {},
   "source": [
    "### Importing Modules in Python: Modules and Packages"
   ]
  },
  {
   "cell_type": "markdown",
   "id": "89180cbb",
   "metadata": {},
   "source": [
    "Python is an Open-Source language and hence has a lot of packages which contains a lot of different inbuilt functions.  \n",
    "In Python, modules and packages help organize and reuse code."
   ]
  },
  {
   "cell_type": "code",
   "execution_count": null,
   "id": "78f9bd8a",
   "metadata": {},
   "outputs": [
    {
     "data": {
      "text/plain": [
       "4.0"
      ]
     },
     "execution_count": 1,
     "metadata": {},
     "output_type": "execute_result"
    }
   ],
   "source": [
    "## Importing a package\n",
    "## Syntax: import package_name\n",
    "import math\n",
    "#math is like a package and inside it we have a lot of inbuilt functions, specifically mathamatical operations we want to do\n",
    "#If the package is not installed, then we have to also install the package\n",
    "\n",
    "math.sqrt(16)"
   ]
  },
  {
   "cell_type": "code",
   "execution_count": 2,
   "id": "b282c522",
   "metadata": {},
   "outputs": [
    {
     "name": "stdout",
     "output_type": "stream",
     "text": [
      "10.0\n",
      "3.141592653589793\n"
     ]
    }
   ],
   "source": [
    "## Importing functions from a package\n",
    "## Syntax: from package_name import function_name\n",
    "from math import sqrt, pi\n",
    "# We are importing two funcitons from the math function\n",
    "\n",
    "# We can now directly use those functions \n",
    "print(sqrt(100))\n",
    "print(pi)"
   ]
  },
  {
   "cell_type": "code",
   "execution_count": null,
   "id": "1f2aebea",
   "metadata": {},
   "outputs": [
    {
     "ename": "ModuleNotFoundError",
     "evalue": "No module named 'numpy'",
     "output_type": "error",
     "traceback": [
      "\u001b[1;31m---------------------------------------------------------------------------\u001b[0m",
      "\u001b[1;31mModuleNotFoundError\u001b[0m                       Traceback (most recent call last)",
      "Cell \u001b[1;32mIn[3], line 2\u001b[0m\n\u001b[0;32m      1\u001b[0m \u001b[38;5;66;03m## Installing a package\u001b[39;00m\n\u001b[1;32m----> 2\u001b[0m \u001b[38;5;28;01mimport\u001b[39;00m\u001b[38;5;250m \u001b[39m\u001b[38;5;21;01mnumpy\u001b[39;00m\u001b[38;5;250m \u001b[39m\u001b[38;5;28;01mas\u001b[39;00m\u001b[38;5;250m \u001b[39m\u001b[38;5;21;01mnp\u001b[39;00m\n\u001b[0;32m      3\u001b[0m \u001b[38;5;66;03m## np is an alias of numpy\u001b[39;00m\n\u001b[0;32m      4\u001b[0m \u001b[38;5;66;03m## So instead of using numpy.function() we can simply use np.function()\u001b[39;00m\n\u001b[0;32m      5\u001b[0m \u001b[38;5;66;03m## This is helpful as we do not have to write the entire package name\u001b[39;00m\n\u001b[0;32m      6\u001b[0m \n\u001b[0;32m      7\u001b[0m \u001b[38;5;66;03m#Numpy is a package used when we want to create arrays \u001b[39;00m\n",
      "\u001b[1;31mModuleNotFoundError\u001b[0m: No module named 'numpy'"
     ]
    }
   ],
   "source": [
    "## Installing a package\n",
    "import numpy as np #Numpy is a package used when we want to create arrays \n",
    "## np is an alias of numpy\n",
    "## So instead of using numpy.function() we can simply use np.function()\n",
    "## This is helpful as we do not have to write the entire package name\n",
    "\n",
    "# We get an error because the module numpy is not installed\n",
    "# When we create a virtual enviroment in Python, some of the packages or modules will get installed automatically but not every module"
   ]
  },
  {
   "cell_type": "code",
   "execution_count": 8,
   "id": "f1301b5b",
   "metadata": {},
   "outputs": [
    {
     "data": {
      "text/plain": [
       "array([1, 2, 3, 4])"
      ]
     },
     "execution_count": 8,
     "metadata": {},
     "output_type": "execute_result"
    }
   ],
   "source": [
    "# We can create a requirements.txt file which contains the name of all the modules we need in our program\n",
    "# We can then install all those modules using a single command in the terminal \n",
    "# pip install -r requirements.txt\n",
    "\n",
    "# Alternatively\n",
    "# We can also install the module separately using the command\n",
    "# pip install module\n",
    "# Example: pip install numpy\n",
    "import numpy as np\n",
    "#Creating an array using numpy\n",
    "np.array([1,2,3,4])\n"
   ]
  },
  {
   "cell_type": "code",
   "execution_count": null,
   "id": "9f8aaded",
   "metadata": {},
   "outputs": [
    {
     "name": "stdout",
     "output_type": "stream",
     "text": [
      "9.0\n",
      "3.141592653589793\n"
     ]
    }
   ],
   "source": [
    "## Importing all modules from a package\n",
    "## Syntax: from package_name import *\n",
    "from math import * \n",
    "# import * means we are able to access all the functions inside the particular package or module\n",
    "# We don't need to specify the functions\n",
    "print(sqrt(81))\n",
    "print(pi)"
   ]
  },
  {
   "cell_type": "markdown",
   "id": "d494f6d5",
   "metadata": {},
   "source": [
    "### Creating custom packages  \n",
    "1. Create a folder named package_name\n",
    "2. Create a file named __init__.py to make the folder a package or a module\n",
    "3. Create other python files with .py extension as required\n"
   ]
  },
  {
   "cell_type": "code",
   "execution_count": null,
   "id": "c96b56a1",
   "metadata": {},
   "outputs": [
    {
     "data": {
      "text/plain": [
       "5"
      ]
     },
     "execution_count": 1,
     "metadata": {},
     "output_type": "execute_result"
    }
   ],
   "source": [
    "#Using our custom built package\n",
    "from package.math import addition\n",
    "addition(2,3)"
   ]
  },
  {
   "cell_type": "code",
   "execution_count": 16,
   "id": "afdc3a39",
   "metadata": {},
   "outputs": [
    {
     "data": {
      "text/plain": [
       "5"
      ]
     },
     "execution_count": 16,
     "metadata": {},
     "output_type": "execute_result"
    }
   ],
   "source": [
    "#Alternate way\n",
    "from package import math\n",
    "math.addition(2,3)"
   ]
  },
  {
   "cell_type": "code",
   "execution_count": 1,
   "id": "22e8cbec",
   "metadata": {},
   "outputs": [
    {
     "name": "stdout",
     "output_type": "stream",
     "text": [
      "-1\n"
     ]
    }
   ],
   "source": [
    "from package import math\n",
    "print(math.subtraction(2,3))"
   ]
  }
 ],
 "metadata": {
  "kernelspec": {
   "display_name": "Python 3",
   "language": "python",
   "name": "python3"
  },
  "language_info": {
   "codemirror_mode": {
    "name": "ipython",
    "version": 3
   },
   "file_extension": ".py",
   "mimetype": "text/x-python",
   "name": "python",
   "nbconvert_exporter": "python",
   "pygments_lexer": "ipython3",
   "version": "3.10.0"
  }
 },
 "nbformat": 4,
 "nbformat_minor": 5
}
