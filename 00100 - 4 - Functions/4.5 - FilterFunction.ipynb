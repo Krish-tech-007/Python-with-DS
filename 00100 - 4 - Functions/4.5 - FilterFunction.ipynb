{
 "cells": [
  {
   "cell_type": "markdown",
   "id": "df1978f0",
   "metadata": {},
   "source": [
    "### The filter() function in Python"
   ]
  },
  {
   "cell_type": "markdown",
   "id": "11f26d4a",
   "metadata": {},
   "source": [
    "The filter() function is used to generate an iterator from elements of an iterable for which a function returns True.   \n",
    "It is used to filter out items from a list(or any other iterable) based on a condition."
   ]
  },
  {
   "cell_type": "code",
   "execution_count": 2,
   "id": "ba2d5562",
   "metadata": {},
   "outputs": [
    {
     "name": "stdout",
     "output_type": "stream",
     "text": [
      "True\n",
      "False\n"
     ]
    }
   ],
   "source": [
    "def is_even(num):\n",
    "    return num%2==0\n",
    "print(is_even(22))\n",
    "print(is_even(11))"
   ]
  },
  {
   "cell_type": "code",
   "execution_count": 3,
   "id": "f721b51c",
   "metadata": {},
   "outputs": [
    {
     "name": "stdout",
     "output_type": "stream",
     "text": [
      "[2, 4, 6, 8, 10]\n"
     ]
    }
   ],
   "source": [
    "lst = [1,2,3,4,5,6,7,8,9,10]\n",
    "## Syntax: filter(function, iterable)\n",
    "## First parameter is the function we want to check using and second is the iterable against which we want to check\n",
    "## Those elements that do not match the condition would be filtered out in the final iterable\n",
    "## Only elements that are True with respect to the condition will be taken into account\n",
    "even_numbers = list(filter(is_even, lst))\n",
    "print(even_numbers)"
   ]
  },
  {
   "cell_type": "code",
   "execution_count": 5,
   "id": "aef8a56d",
   "metadata": {},
   "outputs": [
    {
     "name": "stdout",
     "output_type": "stream",
     "text": [
      "[2, 4, 6, 8]\n"
     ]
    }
   ],
   "source": [
    "## filter() with lambda function\n",
    "numbers = [1,2,3,4,5,6,7,8]\n",
    "even_numbers = list(filter(lambda num : num%2==0, numbers))\n",
    "print(even_numbers)"
   ]
  },
  {
   "cell_type": "code",
   "execution_count": 6,
   "id": "9bacb070",
   "metadata": {},
   "outputs": [
    {
     "name": "stdout",
     "output_type": "stream",
     "text": [
      "[6, 7, 8, 9]\n"
     ]
    }
   ],
   "source": [
    "numbers = [1,2,3,4,5,6,7,8,9]\n",
    "greater_than_five = list(filter(lambda num: num>5, numbers))\n",
    "print(greater_than_five)"
   ]
  },
  {
   "cell_type": "code",
   "execution_count": 8,
   "id": "8a34016c",
   "metadata": {},
   "outputs": [
    {
     "name": "stdout",
     "output_type": "stream",
     "text": [
      "[6, 8]\n"
     ]
    }
   ],
   "source": [
    "## filter() with Lambda function and multiple conditions\n",
    "numbers = [1,2,3,4,5,6,7,8,9]\n",
    "even_and_greater_than_five = list(filter(lambda num: num>5 and num%2==0, numbers))\n",
    "print(even_and_greater_than_five)"
   ]
  },
  {
   "cell_type": "code",
   "execution_count": 13,
   "id": "4c374117",
   "metadata": {},
   "outputs": [
    {
     "name": "stdout",
     "output_type": "stream",
     "text": [
      "['Shyam', 'Ram']\n"
     ]
    }
   ],
   "source": [
    "## filter() with dictionary\n",
    "## To check if age is greater than 18 in dictionary\n",
    "people = [\n",
    "    {'name':'Shyam', 'age':90},\n",
    "    {'name':'Ram','age':100},\n",
    "    {'name':'Kush','age':17},\n",
    "]\n",
    "adults = list(filter(lambda person_dict : person_dict['age']>18, people))\n",
    "adult_names = list(map(lambda person_dict : person_dict['name'], adults))\n",
    "print(adult_names)"
   ]
  },
  {
   "cell_type": "markdown",
   "id": "55c7f783",
   "metadata": {},
   "source": [
    "#### Conclusions\n",
    "The filter() function is a tool that can be used to filter out elements from an iterable based on a function.  \n",
    "It is commonly used for data cleaning, filtering objects and removing unwanted elements from a list.  \n",
    "By mastering filter(), we can write concise and efficient code for processing and manipulating collections in Python."
   ]
  }
 ],
 "metadata": {
  "kernelspec": {
   "display_name": "Python 3",
   "language": "python",
   "name": "python3"
  },
  "language_info": {
   "codemirror_mode": {
    "name": "ipython",
    "version": 3
   },
   "file_extension": ".py",
   "mimetype": "text/x-python",
   "name": "python",
   "nbconvert_exporter": "python",
   "pygments_lexer": "ipython3",
   "version": "3.10.0"
  }
 },
 "nbformat": 4,
 "nbformat_minor": 5
}
