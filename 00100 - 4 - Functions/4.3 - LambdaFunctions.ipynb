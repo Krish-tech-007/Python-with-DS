{
 "cells": [
  {
   "cell_type": "markdown",
   "id": "f441c34f",
   "metadata": {},
   "source": [
    "### Lambda Functions in Python"
   ]
  },
  {
   "cell_type": "markdown",
   "id": "d9625e9d",
   "metadata": {},
   "source": [
    "Lambda functions are small anonymous functions defined using the lambda keyword.  \n",
    "Basically a function without a name.  \n",
    "They can have any number of arguments but only one expression.   \n",
    "One expression basically meaning one logic.    \n",
    "They are commonly used for short operations or as arguments to higher order functions.  "
   ]
  },
  {
   "cell_type": "code",
   "execution_count": 1,
   "id": "d3990e94",
   "metadata": {},
   "outputs": [
    {
     "data": {
      "text/plain": [
       "<function __main__.<lambda>(arguments)>"
      ]
     },
     "execution_count": 1,
     "metadata": {},
     "output_type": "execute_result"
    }
   ],
   "source": [
    "## Syntax\n",
    "lambda arguments : expression"
   ]
  },
  {
   "cell_type": "code",
   "execution_count": 2,
   "id": "82948aea",
   "metadata": {},
   "outputs": [],
   "source": [
    "## Basic function\n",
    "def add(a,b):\n",
    "    return a + b"
   ]
  },
  {
   "cell_type": "code",
   "execution_count": 3,
   "id": "9ceb832f",
   "metadata": {},
   "outputs": [
    {
     "data": {
      "text/plain": [
       "3"
      ]
     },
     "execution_count": 3,
     "metadata": {},
     "output_type": "execute_result"
    }
   ],
   "source": [
    "add(1,2)"
   ]
  },
  {
   "cell_type": "code",
   "execution_count": 7,
   "id": "f79061b5",
   "metadata": {},
   "outputs": [
    {
     "name": "stdout",
     "output_type": "stream",
     "text": [
      "<class 'function'>\n",
      "30\n"
     ]
    }
   ],
   "source": [
    "## Lambda Function\n",
    "addition = lambda a,b : a+b\n",
    "print(type(addition)) #Type function\n",
    "\n",
    "#Calling Lambda function\n",
    "print(addition(10,20))"
   ]
  },
  {
   "cell_type": "code",
   "execution_count": 8,
   "id": "9d5acd16",
   "metadata": {},
   "outputs": [
    {
     "name": "stdout",
     "output_type": "stream",
     "text": [
      "True\n",
      "False\n"
     ]
    }
   ],
   "source": [
    "## Basic function\n",
    "def even(num):\n",
    "    if num%2==0:\n",
    "        return True\n",
    "    else:\n",
    "        return False\n",
    "\n",
    "print(even(10))\n",
    "print(even(11))"
   ]
  },
  {
   "cell_type": "code",
   "execution_count": 9,
   "id": "174df32d",
   "metadata": {},
   "outputs": [
    {
     "name": "stdout",
     "output_type": "stream",
     "text": [
      "True\n",
      "False\n"
     ]
    }
   ],
   "source": [
    "## Lambda function\n",
    "is_even = lambda num : num%2==0\n",
    "print(is_even(10))\n",
    "print(is_even(11))"
   ]
  },
  {
   "cell_type": "code",
   "execution_count": 12,
   "id": "fe224423",
   "metadata": {},
   "outputs": [],
   "source": [
    "##map()\n",
    "##map function applies a function to all item in a list or any collection\n",
    "##Syntax: map(function, iterable)\n",
    "#First parameter is function, second parameter is iterable\n",
    "numbers = [1,2,3,4,5,6]\n",
    "def square(number):\n",
    "    return number ** 2\n",
    "\n"
   ]
  },
  {
   "cell_type": "code",
   "execution_count": 16,
   "id": "107c29a7",
   "metadata": {},
   "outputs": [
    {
     "data": {
      "text/plain": [
       "[1, 4, 9, 16, 25, 36]"
      ]
     },
     "execution_count": 16,
     "metadata": {},
     "output_type": "execute_result"
    }
   ],
   "source": [
    "list(map(lambda number : number ** 2, numbers))\n",
    "#map(lambda number : number ** 2, numbers)\n",
    "#This creates a map object at a particular memory location\n",
    "#Map usually uses a lazy loading technique that basically means it is not completely initialized\n",
    "#So we will convert it into a list to make it intialized\n"
   ]
  }
 ],
 "metadata": {
  "kernelspec": {
   "display_name": "Python 3",
   "language": "python",
   "name": "python3"
  },
  "language_info": {
   "codemirror_mode": {
    "name": "ipython",
    "version": 3
   },
   "file_extension": ".py",
   "mimetype": "text/x-python",
   "name": "python",
   "nbconvert_exporter": "python",
   "pygments_lexer": "ipython3",
   "version": "3.10.0"
  }
 },
 "nbformat": 4,
 "nbformat_minor": 5
}
