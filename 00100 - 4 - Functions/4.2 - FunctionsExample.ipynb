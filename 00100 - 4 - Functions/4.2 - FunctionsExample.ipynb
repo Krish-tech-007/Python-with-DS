{
 "cells": [
  {
   "cell_type": "markdown",
   "id": "a47c0a83",
   "metadata": {},
   "source": [
    "### Functions Examples"
   ]
  },
  {
   "cell_type": "markdown",
   "id": "cf2b697e",
   "metadata": {},
   "source": [
    "### Example 1: Temperature Conversion"
   ]
  },
  {
   "cell_type": "code",
   "execution_count": 11,
   "id": "3cadb299",
   "metadata": {},
   "outputs": [],
   "source": [
    "def convert_temperature(temp, unit):\n",
    "    \"\"\"This function converts celcius to farenheit if C is the unit and vice versa if F is the unit\"\"\"\n",
    "    if(unit.upper()==\"C\"):\n",
    "        return temp * 1.8 + 32\n",
    "    elif (unit.upper()==\"F\"):\n",
    "        return (temp-32) / 1.8\n",
    "    else:\n",
    "        return None\n"
   ]
  },
  {
   "cell_type": "code",
   "execution_count": 9,
   "id": "b4c596e9",
   "metadata": {},
   "outputs": [
    {
     "data": {
      "text/plain": [
       "37.77777777777778"
      ]
     },
     "execution_count": 9,
     "metadata": {},
     "output_type": "execute_result"
    }
   ],
   "source": [
    "convert_temperature(100,\"F\")"
   ]
  },
  {
   "cell_type": "code",
   "execution_count": 10,
   "id": "3b52afd6",
   "metadata": {},
   "outputs": [
    {
     "data": {
      "text/plain": [
       "89.6"
      ]
     },
     "execution_count": 10,
     "metadata": {},
     "output_type": "execute_result"
    }
   ],
   "source": [
    "convert_temperature(32,\"C\")"
   ]
  },
  {
   "cell_type": "markdown",
   "id": "3857c009",
   "metadata": {},
   "source": [
    "### Example 2: Password Strength Checker"
   ]
  },
  {
   "cell_type": "code",
   "execution_count": 25,
   "id": "acccdf39",
   "metadata": {},
   "outputs": [],
   "source": [
    "def is_strong_password(password):\n",
    "    \"\"\"This function checks if the given password is strong or not\"\"\"\n",
    "    if len(password) < 12:\n",
    "        return False\n",
    "    if not any(char.isdigit() for char in password):\n",
    "        return False\n",
    "    # The any() function in Python is a built-in function that returns True if at least one element in an iterable is true, and False otherwise. \n",
    "    # It short-circuits, meaning it stops evaluating the iterable as soon as it finds a true element\n",
    "    if not any(char.isupper() for char in password): #Ensures atleast one letter is capital\n",
    "        return False\n",
    "    if not any(char.isupper() for char in password): #Ensures atleast one letter is small\n",
    "        return False\n",
    "    if not any(char in '~!@#$%^&*_-+=`|\\(){}[]:;\"<>,.?/' for char in password):\n",
    "        return False\n",
    "    \n",
    "    return True\n",
    "    \n",
    "    "
   ]
  },
  {
   "cell_type": "code",
   "execution_count": 19,
   "id": "9894c96d",
   "metadata": {},
   "outputs": [
    {
     "data": {
      "text/plain": [
       "False"
      ]
     },
     "execution_count": 19,
     "metadata": {},
     "output_type": "execute_result"
    }
   ],
   "source": [
    "is_strong_password(\"WeakPwd\")"
   ]
  },
  {
   "cell_type": "code",
   "execution_count": 20,
   "id": "cc52e261",
   "metadata": {},
   "outputs": [
    {
     "data": {
      "text/plain": [
       "False"
      ]
     },
     "execution_count": 20,
     "metadata": {},
     "output_type": "execute_result"
    }
   ],
   "source": [
    "is_strong_password(\"123\")"
   ]
  },
  {
   "cell_type": "code",
   "execution_count": 27,
   "id": "00b7df62",
   "metadata": {},
   "outputs": [
    {
     "data": {
      "text/plain": [
       "True"
      ]
     },
     "execution_count": 27,
     "metadata": {},
     "output_type": "execute_result"
    }
   ],
   "source": [
    "is_strong_password(\"KrishAlpha#123\")"
   ]
  },
  {
   "cell_type": "markdown",
   "id": "a73d4bcc",
   "metadata": {},
   "source": [
    "### Example 3: Calculating the Total Cost of Items in a Shopping Cart"
   ]
  },
  {
   "cell_type": "code",
   "execution_count": 33,
   "id": "f2836c90",
   "metadata": {},
   "outputs": [],
   "source": [
    "def calculate_total_cost(*cart):\n",
    "    total_cost = 0\n",
    "    for cost in args:\n",
    "        total_cost += cost\n",
    "    return total_cost"
   ]
  },
  {
   "cell_type": "code",
   "execution_count": 32,
   "id": "a6e81fe7",
   "metadata": {},
   "outputs": [
    {
     "data": {
      "text/plain": [
       "80"
      ]
     },
     "execution_count": 32,
     "metadata": {},
     "output_type": "execute_result"
    }
   ],
   "source": [
    "calculate_total_cost(10,20,10,40)"
   ]
  },
  {
   "cell_type": "code",
   "execution_count": 34,
   "id": "055709ba",
   "metadata": {},
   "outputs": [
    {
     "name": "stdout",
     "output_type": "stream",
     "text": [
      "5.8999999999999995\n"
     ]
    }
   ],
   "source": [
    "## Alternatively\n",
    "## Real word application\n",
    "def calculate_total_cost(cart):\n",
    "    total_cost = 0\n",
    "    for item in cart:\n",
    "        total_cost += item['price'] * item['quantity']\n",
    "    return total_cost\n",
    "\n",
    "## Example cart data \n",
    "cart = [\n",
    "    {'name':'Apple', 'price':0.5, 'quantity':4},\n",
    "    {'name:':'Banana', 'price': 0.3, 'quantity':6},\n",
    "    {'name':'Orange','price':0.7,'quantity':3},\n",
    "]\n",
    "\n",
    "## Function call\n",
    "print(calculate_total_cost(cart))"
   ]
  },
  {
   "cell_type": "markdown",
   "id": "ae32b53f",
   "metadata": {},
   "source": [
    "### Example 4: Checking if a string is Palindrome "
   ]
  },
  {
   "cell_type": "code",
   "execution_count": 39,
   "id": "0cdbf3ba",
   "metadata": {},
   "outputs": [
    {
     "name": "stdout",
     "output_type": "stream",
     "text": [
      "True\n",
      "False\n"
     ]
    }
   ],
   "source": [
    "def is_palindrome(str):\n",
    "    str.lower().replace(\" \", \"\")\n",
    "    return str == str[::-1]\n",
    "\n",
    "print(is_palindrome(\"racecar\"))\n",
    "print(is_palindrome(\"name\"))"
   ]
  },
  {
   "cell_type": "markdown",
   "id": "cafa3232",
   "metadata": {},
   "source": [
    "### Example 5: Calculate the factorial of a number using recursion"
   ]
  },
  {
   "cell_type": "code",
   "execution_count": 43,
   "id": "454954fd",
   "metadata": {},
   "outputs": [
    {
     "name": "stdout",
     "output_type": "stream",
     "text": [
      "120\n"
     ]
    }
   ],
   "source": [
    "def factorial(n):\n",
    "    if n==0:\n",
    "        return 1\n",
    "    else:\n",
    "       return n * factorial(n-1)\n",
    "    \n",
    "print(factorial(5))"
   ]
  },
  {
   "cell_type": "markdown",
   "id": "b0c9ef98",
   "metadata": {},
   "source": [
    "### Example 6: Function to read a file and to count the frequency of each word"
   ]
  },
  {
   "cell_type": "code",
   "execution_count": 46,
   "id": "e9d94e10",
   "metadata": {},
   "outputs": [
    {
     "name": "stdout",
     "output_type": "stream",
     "text": [
      "{'hello': 2, 'how': 1, 'are': 1, 'you?': 1, 'i': 1, 'am': 1, 'fine': 1}\n"
     ]
    }
   ],
   "source": [
    "def count_word_frequency(file_path):\n",
    "    word_count = {}\n",
    "    with open(file_path, 'r') as file:\n",
    "        for line in file:\n",
    "            words = line.split() #Returns a list\n",
    "            for word in words: #Iterate through the list containing all the words in a line\n",
    "                word = word.lower().strip('.,!;:\\'') #Lowercase and removes all punctuations\n",
    "                word_count[word] = word_count.get(word,0) + 1 #Updates frequency\n",
    "                \n",
    "    return word_count\n",
    "\n",
    "print((count_word_frequency(\"sample.txt\")))\n"
   ]
  },
  {
   "cell_type": "markdown",
   "id": "ee1ebf0f",
   "metadata": {},
   "source": [
    "### Example 7: Validate Email Address"
   ]
  },
  {
   "cell_type": "code",
   "execution_count": 51,
   "id": "0cfed16a",
   "metadata": {},
   "outputs": [
    {
     "name": "stdout",
     "output_type": "stream",
     "text": [
      "True\n",
      "False\n"
     ]
    }
   ],
   "source": [
    "def is_valid_email(email):\n",
    "    \"\"\"This function checks if an email address is valid or not\"\"\"\n",
    "    if \" \" in email:\n",
    "        return False\n",
    "    if not '@' in email:\n",
    "        return False\n",
    "    if email.index('@') == 0:\n",
    "        return False\n",
    "    if len(email) > 320:\n",
    "        return False\n",
    "    atSymbolIndex = email.index('@')\n",
    "    if not any(email[i].isalpha() or email[i].isdigit() or email[i] in '@_.-' for i in range(atSymbolIndex)):\n",
    "        return False\n",
    "    \n",
    "    website = email[atSymbolIndex+1:len(email):1]\n",
    "    dotSymbolIndex = website.index('.')\n",
    "    domain = website[dotSymbolIndex+1:len(website):1]\n",
    "    if(len(domain)>3):\n",
    "        return False\n",
    "    \n",
    "    return True\n",
    "\n",
    "## Function call\n",
    "print(is_valid_email(\"test@example.com\"))\n",
    "print(is_valid_email(\"invalid-email\"))"
   ]
  },
  {
   "cell_type": "code",
   "execution_count": 52,
   "id": "8e9c98f7",
   "metadata": {},
   "outputs": [
    {
     "name": "stdout",
     "output_type": "stream",
     "text": [
      "True\n",
      "False\n"
     ]
    }
   ],
   "source": [
    "## Alternatively\n",
    "import re\n",
    "def is_valid_email(email):\n",
    "    \"\"\"This function checks if an email is valid or not\"\"\"\n",
    "    pattern = r'^[a-zA-Z0-9_.+-]+@[a-zA-Z0-9-]+\\.[a-zA-Z0-9-.]+$'\n",
    "    return re.match(pattern,email) is not None\n",
    "\n",
    "print(is_valid_email(\"test@example.com\"))\n",
    "print(is_valid_email(\"invalid-email\"))"
   ]
  }
 ],
 "metadata": {
  "kernelspec": {
   "display_name": "Python 3",
   "language": "python",
   "name": "python3"
  },
  "language_info": {
   "codemirror_mode": {
    "name": "ipython",
    "version": 3
   },
   "file_extension": ".py",
   "mimetype": "text/x-python",
   "name": "python",
   "nbconvert_exporter": "python",
   "pygments_lexer": "ipython3",
   "version": "3.10.0"
  }
 },
 "nbformat": 4,
 "nbformat_minor": 5
}
