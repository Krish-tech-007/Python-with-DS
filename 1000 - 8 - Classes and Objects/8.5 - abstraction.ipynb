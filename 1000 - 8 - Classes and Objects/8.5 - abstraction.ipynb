{
 "cells": [
  {
   "cell_type": "markdown",
   "id": "2dcd1924",
   "metadata": {},
   "source": [
    "### Abstraction\n"
   ]
  },
  {
   "cell_type": "markdown",
   "id": "049a5bb3",
   "metadata": {},
   "source": [
    "Abstraction is the concept of hiding the complex implementation details and showing only the necessary features of an object."
   ]
  },
  {
   "cell_type": "code",
   "execution_count": null,
   "id": "c60c027f",
   "metadata": {},
   "outputs": [
    {
     "name": "stdout",
     "output_type": "stream",
     "text": [
      "Car engine started\n",
      "The vehicle is being driven\n"
     ]
    }
   ],
   "source": [
    "from abc import ABC, abstractmethod \n",
    "## Abstract base class\n",
    "class Vehicle(ABC):\n",
    "    def drive(self):\n",
    "        print(\"The vehicle is being driven\")\n",
    "    \n",
    "    @abstractmethod\n",
    "    ## Abstract methods are completely empty\n",
    "    def start_engine(self):\n",
    "        pass\n",
    "\n",
    "class Car(Vehicle):\n",
    "    ## In order to use an abstract method, we need to provide it's definition\n",
    "    def start_engine(self):\n",
    "        print(\"Car engine started\")\n",
    "\n",
    "def operate_vehicle(vehicle):\n",
    "    vehicle.start_engine()\n",
    "    vehicle.drive()\n",
    "\n",
    "car = Car()\n",
    "operate_vehicle(car)\n",
    "\n",
    "## In the vehicle class, which is the abstract base class, we are only showing the features with the help of abstract methods\n",
    "## The actual complex implementations are hidden and can be overriden and implemented by all the derived classes"
   ]
  }
 ],
 "metadata": {
  "kernelspec": {
   "display_name": "Python 3",
   "language": "python",
   "name": "python3"
  },
  "language_info": {
   "codemirror_mode": {
    "name": "ipython",
    "version": 3
   },
   "file_extension": ".py",
   "mimetype": "text/x-python",
   "name": "python",
   "nbconvert_exporter": "python",
   "pygments_lexer": "ipython3",
   "version": "3.10.0"
  }
 },
 "nbformat": 4,
 "nbformat_minor": 5
}
