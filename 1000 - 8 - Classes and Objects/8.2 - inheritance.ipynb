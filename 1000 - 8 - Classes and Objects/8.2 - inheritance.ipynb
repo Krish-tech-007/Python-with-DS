{
 "cells": [
  {
   "cell_type": "markdown",
   "id": "a532b13f",
   "metadata": {},
   "source": [
    "### Inheritance in Python"
   ]
  },
  {
   "cell_type": "markdown",
   "id": "cd9dbeae",
   "metadata": {},
   "source": [
    "Inheritance is a fundamental concept in Object Oriented Programming (OOP) that allows a class to inherit attributes and methods from other class.  "
   ]
  },
  {
   "cell_type": "code",
   "execution_count": null,
   "id": "cc6dc872",
   "metadata": {},
   "outputs": [],
   "source": [
    "## Inheritance (Single Inheritance) -> One child class inheriting the parent class\n",
    "\n",
    "## Parent class\n",
    "class Car:\n",
    "    ## Constructor\n",
    "    def __init__(self,windows,doors,enginetype):\n",
    "        self.windows = windows\n",
    "        self.doors = doors\n",
    "        self.enginetype = enginetype\n",
    "    \n",
    "    def drive(self):\n",
    "        print(f\"The person will drive the {self.enginetype} car\")"
   ]
  },
  {
   "cell_type": "code",
   "execution_count": 3,
   "id": "79dc6427",
   "metadata": {},
   "outputs": [
    {
     "name": "stdout",
     "output_type": "stream",
     "text": [
      "The person will drive the petrol car\n",
      "None\n"
     ]
    }
   ],
   "source": [
    "car1 = Car(4,4,\"petrol\")\n",
    "print(car1.drive()) #Prints none as the function has no return type"
   ]
  },
  {
   "cell_type": "code",
   "execution_count": null,
   "id": "f065b5b2",
   "metadata": {},
   "outputs": [],
   "source": [
    "## Inheritance\n",
    "## Syntax: class ChildClass(ParentClass):\n",
    "##               body\n",
    "\n",
    "class Tesla(Car):\n",
    "    def __init__(self,windows,doors,enginetype,is_selfdriving):\n",
    "        super().__init__(windows,doors,enginetype) ## calling the constructor from the parent class\n",
    "        #super() means we are trying to call the parent class\n",
    "        self.is_selfdriving = is_selfdriving\n",
    "    \n",
    "    def selfdriving(self):\n",
    "        print(f\"Is self driving? {self.is_selfdriving}\")\n"
   ]
  },
  {
   "cell_type": "code",
   "execution_count": 12,
   "id": "df49fcf8",
   "metadata": {},
   "outputs": [
    {
     "name": "stdout",
     "output_type": "stream",
     "text": [
      "The person will drive the electric car\n",
      "Is self driving? True\n",
      "The person will drive the electric car\n"
     ]
    }
   ],
   "source": [
    "tesla1 = Tesla(4,4,\"electric\", True)\n",
    "tesla1.selfdriving()\n",
    "tesla1.drive()"
   ]
  },
  {
   "cell_type": "code",
   "execution_count": 13,
   "id": "2f03e429",
   "metadata": {},
   "outputs": [],
   "source": [
    "### Multiple Inheritance\n",
    "## When a class inherits from more than one base class\n",
    "\n",
    "## Base class 1\n",
    "class Animal:\n",
    "    def __init__(self, name):\n",
    "        self.name = name\n",
    "\n",
    "    def speak(self):\n",
    "        print(\"Subclasses must implement this method\")\n",
    "\n",
    "## Base class 2\n",
    "class Pet:\n",
    "    def __init__(self,owner):\n",
    "        self.owner = owner\n",
    "    \n",
    "## Derived Class\n",
    "class Dog(Animal, Pet):\n",
    "    def __init__(self, name, owner):\n",
    "        Animal.__init__(self,name)\n",
    "        Pet.__init__(self,owner)\n",
    "    \n",
    "    def speak(self):\n",
    "        return f\"{self.name} is barking\"\n"
   ]
  },
  {
   "cell_type": "code",
   "execution_count": 15,
   "id": "b71c2168",
   "metadata": {},
   "outputs": [
    {
     "name": "stdout",
     "output_type": "stream",
     "text": [
      "Jack is barking\n",
      "Owner name: Krish\n"
     ]
    }
   ],
   "source": [
    "## Creating an object\n",
    "dog1 = Dog(\"Jack\", \"Krish\")\n",
    "print(dog1.speak())\n",
    "print(f\"Owner name: {dog1.owner}\")"
   ]
  }
 ],
 "metadata": {
  "kernelspec": {
   "display_name": "Python 3",
   "language": "python",
   "name": "python3"
  },
  "language_info": {
   "codemirror_mode": {
    "name": "ipython",
    "version": 3
   },
   "file_extension": ".py",
   "mimetype": "text/x-python",
   "name": "python",
   "nbconvert_exporter": "python",
   "pygments_lexer": "ipython3",
   "version": "3.10.0"
  }
 },
 "nbformat": 4,
 "nbformat_minor": 5
}
