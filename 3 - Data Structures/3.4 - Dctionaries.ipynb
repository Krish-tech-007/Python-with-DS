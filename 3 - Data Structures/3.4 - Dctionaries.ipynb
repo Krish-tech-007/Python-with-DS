{
 "cells": [
  {
   "cell_type": "markdown",
   "metadata": {},
   "source": [
    "### Dictionaries"
   ]
  },
  {
   "cell_type": "markdown",
   "metadata": {},
   "source": [
    "#### Introduction to Dictionaries\n",
    "Dictionaries are unordered collection of items. They store data in key-value pairs.  \n",
    "Keys must be unique and immutable (eg: strings, numbers, or tuples), while values can be of any type.  \n",
    "(Once we define a key, it cannot be changed. But the value associated with the key can change)\n",
    "    "
   ]
  },
  {
   "cell_type": "code",
   "execution_count": 1,
   "metadata": {},
   "outputs": [
    {
     "name": "stdout",
     "output_type": "stream",
     "text": [
      "{}\n",
      "<class 'dict'>\n"
     ]
    }
   ],
   "source": [
    "## Creating Dictionaries\n",
    "empty_dict = {}\n",
    "print(empty_dict)\n",
    "print(type(empty_dict))\n"
   ]
  },
  {
   "cell_type": "code",
   "execution_count": 2,
   "metadata": {},
   "outputs": [
    {
     "name": "stdout",
     "output_type": "stream",
     "text": [
      "{}\n",
      "<class 'dict'>\n"
     ]
    }
   ],
   "source": [
    "empty_dict = dict()\n",
    "print(empty_dict)\n",
    "print(type(empty_dict))"
   ]
  },
  {
   "cell_type": "code",
   "execution_count": 4,
   "metadata": {},
   "outputs": [
    {
     "name": "stdout",
     "output_type": "stream",
     "text": [
      "{'name': 'Krish', 'age': 19, 'grade': 'O'}\n",
      "<class 'dict'>\n"
     ]
    }
   ],
   "source": [
    "student = {\"name\" : \"Krish\", \"age\" : 19, \"grade\" : 'O', }\n",
    "print(student)\n",
    "print(type(student))"
   ]
  },
  {
   "cell_type": "code",
   "execution_count": null,
   "metadata": {},
   "outputs": [
    {
     "name": "stdout",
     "output_type": "stream",
     "text": [
      "{'name': 'Sharma', 'age': 19, 'grade': 'O'}\n"
     ]
    }
   ],
   "source": [
    "# Single key should always be used\n",
    "student = {\"name\" : \"Krish\", \"age\" : 19, \"grade\" : 'O', \"name\" : \"Sharma\"} #If we are defining a key again, the value associated with it gets replaced\n",
    "print(student)\n"
   ]
  },
  {
   "cell_type": "code",
   "execution_count": 6,
   "metadata": {},
   "outputs": [
    {
     "name": "stdout",
     "output_type": "stream",
     "text": [
      "{'name': 'Krish', 'age': 19, 'grade': 'O'}\n"
     ]
    }
   ],
   "source": [
    "student = {\"name\":\"Krish\", \"age\": 19, \"grade\": 'O'}\n",
    "## Accessing dictionary elements\n",
    "print(student)"
   ]
  },
  {
   "cell_type": "code",
   "execution_count": 13,
   "metadata": {},
   "outputs": [
    {
     "name": "stdout",
     "output_type": "stream",
     "text": [
      "O\n",
      "19\n",
      "Krish\n",
      "O\n",
      "None\n",
      "Not Available\n"
     ]
    }
   ],
   "source": [
    "## Accessing dictionary elements\n",
    "print(student['grade'])\n",
    "print(student['age'])\n",
    "print(student['name'])\n",
    "\n",
    "## Accessing dictionary using get() method\n",
    "print(student.get(\"grade\"))\n",
    "print(student.get(\"college\")) #college is not present as a key, therefore since the key does not exist, it will return None\n",
    "print(student.get(\"college\", \"Not Available\")) #Giving a default message/value to be returned if key does not exist instead of None"
   ]
  },
  {
   "cell_type": "code",
   "execution_count": 16,
   "metadata": {},
   "outputs": [
    {
     "name": "stdout",
     "output_type": "stream",
     "text": [
      "{'name': 'Krish', 'age': 20, 'grade': 'O', 'country': 'India', 'college': 'SRM'}\n",
      "{'name': 'Krish', 'age': 20, 'grade': 'O', 'country': 'India', 'college': 'SRM'}\n",
      "{'name': 'Krish', 'age': 20, 'country': 'India', 'college': 'SRM'}\n"
     ]
    }
   ],
   "source": [
    "## Modifying Dictionary Elements\n",
    "## Dictionaries are mutable so we can add, update or delete elements\n",
    "print(student)\n",
    "\n",
    "## Updating the value of associated with an existing key\n",
    "student['age'] = 20\n",
    "\n",
    "## Adding a new key value pair\n",
    "student['country'] = \"India\"\n",
    "student['college'] = \"SRM\"\n",
    "\n",
    "print(student)\n",
    "\n",
    "## Deleting a key and the value associated with it\n",
    "del student[\"grade\"]\n",
    "print(student)\n"
   ]
  },
  {
   "cell_type": "code",
   "execution_count": null,
   "metadata": {},
   "outputs": [
    {
     "name": "stdout",
     "output_type": "stream",
     "text": [
      "dict_keys(['name', 'age', 'country', 'college'])\n",
      "dict_values(['Krish', 20, 'India', 'SRM'])\n",
      "dict_items([('name', 'Krish'), ('age', 20), ('country', 'India'), ('college', 'SRM')])\n"
     ]
    }
   ],
   "source": [
    "## Dictionary methods\n",
    "\n",
    "## Obtaining all the keys inside a dictionary\n",
    "keys = student.keys()\n",
    "print(keys)\n",
    "\n",
    "## Obtaining all the values inside a dictionary\n",
    "values = student.values()\n",
    "print(values)\n",
    "\n",
    "## Obtaining all the key, value pairs inside a dictionary\n",
    "items = student.items() #Tpe dictionary items, which will be in the form of a list of tuples containing key, value pairs\n",
    "print(items)"
   ]
  },
  {
   "cell_type": "code",
   "execution_count": 21,
   "metadata": {},
   "outputs": [
    {
     "name": "stdout",
     "output_type": "stream",
     "text": [
      "{'name': 'Krish', 'age': 20, 'country': 'India', 'college': 'SRM'}\n",
      "{'name': 'Krish', 'age': 20, 'country': 'India', 'college': 'SRM'}\n"
     ]
    }
   ],
   "source": [
    "## Shallow copy\n",
    "student_copy = student\n",
    "print(student)\n",
    "print(student_copy)"
   ]
  },
  {
   "cell_type": "code",
   "execution_count": null,
   "metadata": {},
   "outputs": [
    {
     "name": "stdout",
     "output_type": "stream",
     "text": [
      "{'name': 'Sharma', 'age': 20, 'country': 'India', 'college': 'SRM'}\n",
      "{'name': 'Sharma', 'age': 20, 'country': 'India', 'college': 'SRM'}\n"
     ]
    }
   ],
   "source": [
    "student[\"name\"] = \"Sharma\"\n",
    "print(student)\n",
    "print(student_copy)\n",
    "\n",
    "## If we are updating the orignal dictionary, changes are reflected in the copied dictionary as well"
   ]
  },
  {
   "cell_type": "code",
   "execution_count": 24,
   "metadata": {},
   "outputs": [
    {
     "name": "stdout",
     "output_type": "stream",
     "text": [
      "{'name': 'Sharma', 'age': 20, 'country': 'India', 'college': 'SRM'}\n",
      "{'name': 'Sharma', 'age': 20, 'country': 'India', 'college': 'SRM'}\n"
     ]
    }
   ],
   "source": [
    "student_shallow_copy = student.copy() #shallow copy\n",
    "print(student)\n",
    "print(student_shallow_copy)\n"
   ]
  },
  {
   "cell_type": "code",
   "execution_count": null,
   "metadata": {},
   "outputs": [
    {
     "name": "stdout",
     "output_type": "stream",
     "text": [
      "{'name': 'Krish', 'age': 20, 'country': 'India', 'college': 'SRM'}\n",
      "{'name': 'Sharma', 'age': 20, 'country': 'India', 'college': 'SRM'}\n"
     ]
    }
   ],
   "source": [
    "student[\"name\"] = \"Krish\"\n",
    "print(student)\n",
    "print(student_shallow_copy) #When shallow copy is done using copy() method, changes made in the orginal dictionary are no longer reflected in the copied dictionary\n",
    "#This is possible as separate memory locations are allocated"
   ]
  },
  {
   "cell_type": "code",
   "execution_count": 27,
   "metadata": {},
   "outputs": [
    {
     "name": "stdout",
     "output_type": "stream",
     "text": [
      "name\n",
      "age\n",
      "country\n",
      "college\n"
     ]
    }
   ],
   "source": [
    "### Iterating over Dictionaries\n",
    "\n",
    "## Using Loops to iterate over dictionaries, keys, values, or items(combination of key, value pairs)\n",
    "\n",
    "## Iterating over keys\n",
    "for key in student.keys():\n",
    "    print(key)\n"
   ]
  },
  {
   "cell_type": "code",
   "execution_count": 28,
   "metadata": {},
   "outputs": [
    {
     "name": "stdout",
     "output_type": "stream",
     "text": [
      "Krish\n",
      "20\n",
      "India\n",
      "SRM\n"
     ]
    }
   ],
   "source": [
    "## Iterating over values\n",
    "for value in student.values():\n",
    "    print(value)"
   ]
  },
  {
   "cell_type": "code",
   "execution_count": null,
   "metadata": {},
   "outputs": [
    {
     "name": "stdout",
     "output_type": "stream",
     "text": [
      "name : Krish\n",
      "age : 20\n",
      "country : India\n",
      "college : SRM\n"
     ]
    }
   ],
   "source": [
    "## Iterate over key value pairs \n",
    "for key, value in student.items():\n",
    "    print(f\"{key} : {value}\")"
   ]
  },
  {
   "cell_type": "code",
   "execution_count": null,
   "metadata": {},
   "outputs": [
    {
     "name": "stdout",
     "output_type": "stream",
     "text": [
      "{'student1': {'name': 'Krish', 'age': 19}, 'student2': {'name': 'Ram', 'age': 11}}\n"
     ]
    }
   ],
   "source": [
    "## Nested Dictionaries\n",
    "## Dictionary inside another dictionary\n",
    "## We can create as many levels of a dictionary inside another dictionary as we like\n",
    "students = {\n",
    "    \"student1\" : {\"name\": \"Krish\", \"age\": 19},\n",
    "    \"student2\" : {\"name\": \"Ram\", \"age\": 11},\n",
    "}\n",
    "print(students)"
   ]
  },
  {
   "cell_type": "code",
   "execution_count": 34,
   "metadata": {},
   "outputs": [
    {
     "name": "stdout",
     "output_type": "stream",
     "text": [
      "{'name': 'Krish', 'age': 19}\n",
      "Krish\n",
      "19\n"
     ]
    }
   ],
   "source": [
    "## Accessing nested dictionaries elements\n",
    "print(students[\"student1\"])\n",
    "print(students[\"student1\"][\"name\"])\n",
    "print(students[\"student1\"][\"age\"])"
   ]
  },
  {
   "cell_type": "code",
   "execution_count": 35,
   "metadata": {},
   "outputs": [
    {
     "data": {
      "text/plain": [
       "dict_items([('student1', {'name': 'Krish', 'age': 19}), ('student2', {'name': 'Ram', 'age': 11})])"
      ]
     },
     "execution_count": 35,
     "metadata": {},
     "output_type": "execute_result"
    }
   ],
   "source": [
    "students.items()"
   ]
  },
  {
   "cell_type": "code",
   "execution_count": 39,
   "metadata": {},
   "outputs": [
    {
     "name": "stdout",
     "output_type": "stream",
     "text": [
      "student1 : {'name': 'Krish', 'age': 19}\n",
      "name : Krish\n",
      "age : 19\n",
      "student2 : {'name': 'Ram', 'age': 11}\n",
      "name : Ram\n",
      "age : 11\n"
     ]
    }
   ],
   "source": [
    "## Iterating over nested dictionaries\n",
    "for student_id, student_info in students.items():\n",
    "    print(f\"{student_id} : {student_info}\")\n",
    "    for key, value in student_info.items():\n",
    "        print(f\"{key} : {value}\")\n"
   ]
  },
  {
   "cell_type": "code",
   "execution_count": 40,
   "metadata": {},
   "outputs": [
    {
     "name": "stdout",
     "output_type": "stream",
     "text": [
      "{0: 0, 1: 1, 2: 4, 3: 9, 4: 16, 5: 25, 6: 36, 7: 49, 8: 64, 9: 81}\n"
     ]
    }
   ],
   "source": [
    "## Dictionary Comprehension\n",
    "squares = {i:i**2 for i in range(10)}\n",
    "print(squares)"
   ]
  },
  {
   "cell_type": "code",
   "execution_count": 41,
   "metadata": {},
   "outputs": [
    {
     "name": "stdout",
     "output_type": "stream",
     "text": [
      "{0: 0, 2: 4, 4: 16, 6: 36, 8: 64}\n"
     ]
    }
   ],
   "source": [
    "## Dictionary Comprehension using conditional logic\n",
    "even_squares = {i:i**2 for i in range(10) if i%2 == 0}\n",
    "print(even_squares)"
   ]
  },
  {
   "cell_type": "code",
   "execution_count": 44,
   "metadata": {},
   "outputs": [
    {
     "name": "stdout",
     "output_type": "stream",
     "text": [
      "{1: 1, 2: 2, 3: 3, 4: 4}\n",
      "{1: 1, 2: 2, 3: 3, 4: 4}\n"
     ]
    }
   ],
   "source": [
    "## Practical examples\n",
    "\n",
    "## Using a dictionary to count the frequency of elements in list \n",
    "numbers = [1,2,2,3,3,3,4,4,4,4]\n",
    "frequency = {i:numbers.count(i) for i in numbers}\n",
    "print(frequency)\n",
    "\n",
    "## Alternative\n",
    "frequency = {}\n",
    "for number in numbers:\n",
    "    if number in frequency:\n",
    "        frequency[number] += 1\n",
    "    else:\n",
    "        frequency[number] = 1\n",
    "print(frequency)"
   ]
  },
  {
   "cell_type": "code",
   "execution_count": 45,
   "metadata": {},
   "outputs": [
    {
     "name": "stdout",
     "output_type": "stream",
     "text": [
      "{'a': 1, 'b': 3, 'c': 4}\n"
     ]
    }
   ],
   "source": [
    "## Merging two dictionaries into one\n",
    "dict1 = {\"a\":1, \"b\":2}\n",
    "dict2 = {\"b\":3, \"c\": 4}\n",
    "merged_dict = {**dict1, **dict2}\n",
    "## Double asterisk means it can take any number of key value pairs\n",
    "## Here dict1 and dict2 are keyword arguments\n",
    "## keyword arguments are basically any value in the form of key, value pair\n",
    "print(merged_dict)"
   ]
  }
 ],
 "metadata": {
  "kernelspec": {
   "display_name": "Python 3",
   "language": "python",
   "name": "python3"
  },
  "language_info": {
   "codemirror_mode": {
    "name": "ipython",
    "version": 3
   },
   "file_extension": ".py",
   "mimetype": "text/x-python",
   "name": "python",
   "nbconvert_exporter": "python",
   "pygments_lexer": "ipython3",
   "version": "3.10.0"
  }
 },
 "nbformat": 4,
 "nbformat_minor": 2
}
