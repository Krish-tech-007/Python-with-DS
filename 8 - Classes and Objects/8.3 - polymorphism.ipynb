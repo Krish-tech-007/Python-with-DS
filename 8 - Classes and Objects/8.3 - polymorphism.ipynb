{
 "cells": [
  {
   "cell_type": "markdown",
   "id": "d9e05eb2",
   "metadata": {},
   "source": [
    "### Polymorphism"
   ]
  },
  {
   "cell_type": "markdown",
   "id": "e479ee16",
   "metadata": {},
   "source": [
    "Polymorphism is a core concept in Object Oriented Programming (OOP) that allows objects of different classes to be treated as objects of a common superclass.   \n",
    "It provides a way to perform a single action in different forms.   \n",
    "Polymorphism is typically achieved through method overriding and interfaces."
   ]
  },
  {
   "cell_type": "markdown",
   "id": "d51495ba",
   "metadata": {},
   "source": [
    "#### Method Overriding \n",
    "Method Overriding allows a child class to provide a specific implementation of a method that is already defined in the parent class"
   ]
  },
  {
   "cell_type": "code",
   "execution_count": 4,
   "id": "2b501e9c",
   "metadata": {},
   "outputs": [
    {
     "name": "stdout",
     "output_type": "stream",
     "text": [
      "Barks\n",
      "Meow\n",
      "Barks\n",
      "Meow\n"
     ]
    }
   ],
   "source": [
    "## Base class\n",
    "class Animal:\n",
    "    def speak(self):\n",
    "        return \"Sound of the animal\"\n",
    "\n",
    "## Derived class\n",
    "class Dog(Animal):\n",
    "    def speak(self):\n",
    "        return \"Barks\"\n",
    "\n",
    "## Derived class\n",
    "class Cat(Animal):\n",
    "    def speak(self):\n",
    "        return \"Meow\"\n",
    "\n",
    "## Function that demonstrates polymorphism\n",
    "def animal_speak(animal):\n",
    "    print(animal.speak())\n",
    "\n",
    "dog = Dog()\n",
    "cat = Cat()\n",
    "print(dog.speak())\n",
    "print(cat.speak())\n",
    "animal_speak(dog)\n",
    "animal_speak(cat)"
   ]
  },
  {
   "cell_type": "code",
   "execution_count": 6,
   "id": "fe94ed8d",
   "metadata": {},
   "outputs": [
    {
     "name": "stdout",
     "output_type": "stream",
     "text": [
      "6\n",
      "9.948776\n"
     ]
    }
   ],
   "source": [
    "### Polymorphism with Functions and Methods\n",
    "\n",
    "## Base class\n",
    "class Shape:\n",
    "    def area(self):\n",
    "        return \"The area of the figure\"\n",
    "\n",
    "## Derived class\n",
    "class Rectangle(Shape):\n",
    "    def __init__(self,length,breadth):\n",
    "        self.length = length\n",
    "        self.breadth = breadth\n",
    "    def area(self):\n",
    "        return self.length * self.breadth\n",
    "\n",
    "## Derived class\n",
    "class Circle:\n",
    "    def __init__(self,radius):\n",
    "        self.radius = radius\n",
    "    def area(self):\n",
    "        return self.radius**2 * 3.14\n",
    "\n",
    "## Function that displays polymorphism\n",
    "def shape_area(shape):\n",
    "    print(shape.area())\n",
    "\n",
    "rectangle = Rectangle(3,2)\n",
    "circle = Circle(1.78)\n",
    "shape_area(rectangle)\n",
    "shape_area(circle)"
   ]
  },
  {
   "cell_type": "markdown",
   "id": "2f9fb523",
   "metadata": {},
   "source": [
    "## Polymorphism with Abstract Base Classes \n",
    "Abstract Base Classes (ABCs) are used to define common methods for a group of related objects.   \n",
    "They can enforce that derived classes implement particular methods, promoting consistency across different implementations."
   ]
  },
  {
   "cell_type": "code",
   "execution_count": 9,
   "id": "36ceaa55",
   "metadata": {},
   "outputs": [
    {
     "name": "stdout",
     "output_type": "stream",
     "text": [
      "Car engine started\n",
      "Bike engine started\n"
     ]
    }
   ],
   "source": [
    "from abc import ABC, abstractmethod\n",
    "\n",
    "## Define an abstract class\n",
    "class Vehicle(ABC):\n",
    "    @abstractmethod \n",
    "    def start_engine(self):\n",
    "        pass\n",
    "\n",
    "## Derived Class\n",
    "class Car(Vehicle):\n",
    "    def start_engine(self):\n",
    "        return \"Car engine started\"\n",
    "\n",
    "class Bike(Car):\n",
    "    def start_engine(self):\n",
    "        return \"Bike engine started\"\n",
    "\n",
    "def vehicle_start_engine(vehicle):\n",
    "    print(vehicle.start_engine())\n",
    "\n",
    "car = Car()\n",
    "bike = Bike()\n",
    "vehicle_start_engine(car)\n",
    "vehicle_start_engine(bike)\n"
   ]
  },
  {
   "cell_type": "markdown",
   "id": "3f81eb36",
   "metadata": {},
   "source": [
    "### Conclusion\n",
    "Polymorphism is a powerful feature of OOP that allows for flexibility and integration in code design.   \n",
    "It enables a single function to handle objects of different classes, each with its own implementation of a method.   "
   ]
  }
 ],
 "metadata": {
  "kernelspec": {
   "display_name": "Python 3",
   "language": "python",
   "name": "python3"
  },
  "language_info": {
   "codemirror_mode": {
    "name": "ipython",
    "version": 3
   },
   "file_extension": ".py",
   "mimetype": "text/x-python",
   "name": "python",
   "nbconvert_exporter": "python",
   "pygments_lexer": "ipython3",
   "version": "3.10.0"
  }
 },
 "nbformat": 4,
 "nbformat_minor": 5
}
