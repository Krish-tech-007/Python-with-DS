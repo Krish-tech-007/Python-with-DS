{
 "cells": [
  {
   "cell_type": "markdown",
   "id": "2aaaeea1",
   "metadata": {},
   "source": [
    "### Magic Methods"
   ]
  },
  {
   "cell_type": "markdown",
   "id": "df897581",
   "metadata": {},
   "source": [
    "Magic methods in Python, also known as dunder methods (double underscore methods), are special methods that start with and end with double underscores.    \n",
    "These methods enable us to define the behaviour of objects for built-in operations, such as arithmetic operations, comparisions, and more."
   ]
  },
  {
   "cell_type": "markdown",
   "id": "ac0ce85d",
   "metadata": {},
   "source": [
    "Magic Methods are predefined methods in Python that you can override to change the behaviour of your objects.    \n",
    "Some common magic methods include:"
   ]
  },
  {
   "cell_type": "code",
   "execution_count": 2,
   "id": "1e02b113",
   "metadata": {},
   "outputs": [
    {
     "data": {
      "text/plain": [
       "'\\n\\n__init__ : Initializes a new instance of a class\\n__str__ : Returns a string representation of an object\\n__repr__ : Returns an official string representation of an object\\n__len__ : Returns the length of an object\\n__getitem__ : Gets an item from the container\\n__setitem__ : Sets an item in the container\\n\\n'"
      ]
     },
     "execution_count": 2,
     "metadata": {},
     "output_type": "execute_result"
    }
   ],
   "source": [
    "\"\"\"\n",
    "\n",
    "__init__ : Initializes a new instance of a class\n",
    "__str__ : Returns a string representation of an object\n",
    "__repr__ : Returns an official string representation of an object\n",
    "__len__ : Returns the length of an object\n",
    "__getitem__ : Gets an item from the container\n",
    "__setitem__ : Sets an item in the container\n",
    "\n",
    "\"\"\"\n"
   ]
  },
  {
   "cell_type": "code",
   "execution_count": 7,
   "id": "d56ea0bf",
   "metadata": {},
   "outputs": [
    {
     "data": {
      "text/plain": [
       "['__class__',\n",
       " '__delattr__',\n",
       " '__dict__',\n",
       " '__dir__',\n",
       " '__doc__',\n",
       " '__eq__',\n",
       " '__format__',\n",
       " '__ge__',\n",
       " '__getattribute__',\n",
       " '__gt__',\n",
       " '__hash__',\n",
       " '__init__',\n",
       " '__init_subclass__',\n",
       " '__le__',\n",
       " '__lt__',\n",
       " '__module__',\n",
       " '__ne__',\n",
       " '__new__',\n",
       " '__reduce__',\n",
       " '__reduce_ex__',\n",
       " '__repr__',\n",
       " '__setattr__',\n",
       " '__sizeof__',\n",
       " '__str__',\n",
       " '__subclasshook__',\n",
       " '__weakref__']"
      ]
     },
     "execution_count": 7,
     "metadata": {},
     "output_type": "execute_result"
    }
   ],
   "source": [
    "class Person:\n",
    "    pass\n",
    "\n",
    "person = Person()\n",
    "dir(person)"
   ]
  },
  {
   "cell_type": "code",
   "execution_count": null,
   "id": "6495fc60",
   "metadata": {},
   "outputs": [
    {
     "name": "stdout",
     "output_type": "stream",
     "text": [
      "<__main__.Person object at 0x000002D5342DFF10>\n"
     ]
    }
   ],
   "source": [
    "print(person) # Gets the string representation of the object"
   ]
  },
  {
   "cell_type": "code",
   "execution_count": 9,
   "id": "66292997",
   "metadata": {},
   "outputs": [
    {
     "name": "stdout",
     "output_type": "stream",
     "text": [
      "<__main__.Person object at 0x000002D53318E3B0>\n"
     ]
    }
   ],
   "source": [
    "## Basic Methods\n",
    "class Person:\n",
    "    def __init__(self,name,age):\n",
    "        self.name = name\n",
    "        self.age = age\n",
    "\n",
    "person = Person(\"Krish\", 19)\n",
    "print(person)"
   ]
  },
  {
   "cell_type": "code",
   "execution_count": 11,
   "id": "5bc3c499",
   "metadata": {},
   "outputs": [
    {
     "name": "stdout",
     "output_type": "stream",
     "text": [
      "Name: Krish and Age: 19\n",
      "Person(name=Krish, age=19)\n"
     ]
    }
   ],
   "source": [
    "## Basic Methods\n",
    "class Person:\n",
    "    def __init__(self,name,age):\n",
    "        self.name = name\n",
    "        self.age = age\n",
    "    def __str__(self):\n",
    "        return f\"Name: {self.name} and Age: {self.age}\"\n",
    "    def __repr__(self):\n",
    "        return f\"Person(name={self.name}, age={self.age})\"\n",
    "person = Person(\"Krish\", 19)\n",
    "print(person)\n",
    "print(repr(person))"
   ]
  }
 ],
 "metadata": {
  "kernelspec": {
   "display_name": "Python 3",
   "language": "python",
   "name": "python3"
  },
  "language_info": {
   "codemirror_mode": {
    "name": "ipython",
    "version": 3
   },
   "file_extension": ".py",
   "mimetype": "text/x-python",
   "name": "python",
   "nbconvert_exporter": "python",
   "pygments_lexer": "ipython3",
   "version": "3.10.0"
  }
 },
 "nbformat": 4,
 "nbformat_minor": 5
}
