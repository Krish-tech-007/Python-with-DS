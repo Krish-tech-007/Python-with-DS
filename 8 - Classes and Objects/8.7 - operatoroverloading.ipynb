{
 "cells": [
  {
   "cell_type": "markdown",
   "id": "7c3d6d89",
   "metadata": {},
   "source": [
    "### Operator Overloading"
   ]
  },
  {
   "cell_type": "markdown",
   "id": "4351b4a7",
   "metadata": {},
   "source": [
    "Operator Overloading allows us to define the behaviour of operators (+,-,*, etc) for custom objects.   \n",
    "You achieve this by overriding specific magic methods in our class."
   ]
  },
  {
   "cell_type": "code",
   "execution_count": 2,
   "id": "2845965f",
   "metadata": {},
   "outputs": [
    {
     "data": {
      "text/plain": [
       "'\\n__add__(self,other): Adds two objects using the + operator\\n__sub__(self,other): Subtracts two objects using the - operator\\n__mul__(self,other): Multiplies two objects using the * operator\\n__truediv__(self,other): Divides two objects using the / operator\\n__eq__ (self,other): Checks if two objects are equal using the == operator\\n__lt__ (self,other): Checks if one object is less than another using the < operator\\n__gt__ (self,other): Checks if one object is greater than another using the > operator\\n\\n'"
      ]
     },
     "execution_count": 2,
     "metadata": {},
     "output_type": "execute_result"
    }
   ],
   "source": [
    "### Common Operator Overloading Magic Methods\n",
    "\"\"\"\n",
    "__add__(self,other): Adds two objects using the + operator\n",
    "__sub__(self,other): Subtracts two objects using the - operator\n",
    "__mul__(self,other): Multiplies two objects using the * operator\n",
    "__truediv__(self,other): Divides two objects using the / operator\n",
    "__eq__ (self,other): Checks if two objects are equal using the == operator\n",
    "__lt__ (self,other): Checks if one object is less than another using the < operator\n",
    "__gt__ (self,other): Checks if one object is greater than another using the > operator\n",
    "\n",
    "\"\"\""
   ]
  },
  {
   "cell_type": "code",
   "execution_count": 9,
   "id": "5b97b9e7",
   "metadata": {},
   "outputs": [
    {
     "name": "stdout",
     "output_type": "stream",
     "text": [
      "Vector(x=6, y=22)\n",
      "Vector(x=14, y=18)\n",
      "Vector(x=-40, y=40)\n",
      "False\n",
      "True\n",
      "Vector(x=10, y=20)\n"
     ]
    }
   ],
   "source": [
    "## Mathematical Operation for Vectors\n",
    "class Vector:\n",
    "    def __init__(self, x, y):\n",
    "        self.x = x\n",
    "        self.y = y\n",
    "    def __add__(self,other):\n",
    "        return Vector(self.x + other.x, self.y + other.y)\n",
    "    def __sub__(self,other):\n",
    "        return Vector(self.x - other.x, self.y - other.y)\n",
    "    def __mul__(self, other):\n",
    "        return Vector(self.x * other.x, self.y * other.y)\n",
    "    def __eq__(self,other):\n",
    "        return self.x == other.x and self.y == other.y\n",
    "    def __repr__(self):\n",
    "        return f\"Vector(x={self.x}, y={self.y})\"\n",
    "    \n",
    "\n",
    "v1 = Vector(10,20)\n",
    "v2 = Vector(-4,2)\n",
    "v3 = Vector(10,20)\n",
    "print(v1+v2)\n",
    "print(v1-v2)\n",
    "print(v1*v2)\n",
    "print(v1==v2)\n",
    "print(v1==v3)\n",
    "print(repr(v3))\n",
    "\n"
   ]
  },
  {
   "cell_type": "code",
   "execution_count": 18,
   "id": "017aa5c4",
   "metadata": {},
   "outputs": [
    {
     "name": "stdout",
     "output_type": "stream",
     "text": [
      "3 + 7\n",
      "1 + -1\n",
      "-10 + 11\n",
      "0.8235294117647058 + -0.29411764705882354\n",
      "False\n"
     ]
    }
   ],
   "source": [
    "## Overloading for Complex Numbers\n",
    "class Complex:\n",
    "    def __init__(self, real, img):\n",
    "        self.real = real\n",
    "        self.img = img\n",
    "    def __add__(self, other):\n",
    "        return Complex(self.real + other.real, self.img + other.img)\n",
    "    def __sub__(self,other):\n",
    "        return Complex(self.real - other.real, self.img - other.img)\n",
    "    def __mul__(self, other):\n",
    "        real_part = self.real * other.real - self.img * other.img\n",
    "        img_part = self.real * other.img + self.img * other.real\n",
    "        return Complex(real_part, img_part)\n",
    "    def __truediv__(self,other):\n",
    "        denominator = other.real ** 2 + other.img ** 2\n",
    "        real_part = (self.real * other.real + self.img * other.img) / denominator\n",
    "        img_part = (self.img * other.real - self.real * other.img) / denominator\n",
    "        return Complex(real_part, img_part)\n",
    "    def __eq__(self,other):\n",
    "        return self.real == other.real and self.img == other.img\n",
    "    def __repr__(self):\n",
    "        return f\"{self.real} + {self.img}\"\n",
    "\n",
    "c1 = Complex(2,3)\n",
    "c2 = Complex(1,4)\n",
    "print(c1+c2)\n",
    "print(c1-c2)\n",
    "print(c1*c2)\n",
    "print(c1/c2)\n",
    "print(c1==c2)\n"
   ]
  }
 ],
 "metadata": {
  "kernelspec": {
   "display_name": "Python 3",
   "language": "python",
   "name": "python3"
  },
  "language_info": {
   "codemirror_mode": {
    "name": "ipython",
    "version": 3
   },
   "file_extension": ".py",
   "mimetype": "text/x-python",
   "name": "python",
   "nbconvert_exporter": "python",
   "pygments_lexer": "ipython3",
   "version": "3.10.0"
  }
 },
 "nbformat": 4,
 "nbformat_minor": 5
}
