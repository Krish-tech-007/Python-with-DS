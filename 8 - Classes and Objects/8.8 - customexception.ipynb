{
 "cells": [
  {
   "cell_type": "markdown",
   "id": "013080c3",
   "metadata": {},
   "source": [
    "### Custom exception (Raise and Throw an exception)"
   ]
  },
  {
   "cell_type": "code",
   "execution_count": 2,
   "id": "1d8ba19b",
   "metadata": {},
   "outputs": [],
   "source": [
    "class Error(Exception): ## Not compulsorily required, we could inherit the Exception class directly in dobException class\n",
    "    pass\n",
    "class dobException(Error):\n",
    "    pass\n"
   ]
  },
  {
   "cell_type": "code",
   "execution_count": 4,
   "id": "0d1c2ca2",
   "metadata": {},
   "outputs": [
    {
     "name": "stdout",
     "output_type": "stream",
     "text": [
      "You are not elligible\n"
     ]
    }
   ],
   "source": [
    "year = int(input(\"Enter birth year\"))\n",
    "age = 2025 - year\n",
    "\n",
    "try:\n",
    "    if age<=30 and age >=20:\n",
    "        print(\"You are elligible\")\n",
    "    else:\n",
    "        raise dobException  \n",
    "except dobException:\n",
    "    print(\"You are not elligible\")"
   ]
  }
 ],
 "metadata": {
  "kernelspec": {
   "display_name": "Python 3",
   "language": "python",
   "name": "python3"
  },
  "language_info": {
   "codemirror_mode": {
    "name": "ipython",
    "version": 3
   },
   "file_extension": ".py",
   "mimetype": "text/x-python",
   "name": "python",
   "nbconvert_exporter": "python",
   "pygments_lexer": "ipython3",
   "version": "3.10.0"
  }
 },
 "nbformat": 4,
 "nbformat_minor": 5
}
