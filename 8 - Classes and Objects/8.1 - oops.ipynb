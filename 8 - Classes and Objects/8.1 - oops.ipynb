{
 "cells": [
  {
   "cell_type": "markdown",
   "id": "b710d5e7",
   "metadata": {},
   "source": [
    "### Classes and Objects"
   ]
  },
  {
   "cell_type": "markdown",
   "id": "a0862ba1",
   "metadata": {},
   "source": [
    "Object Oriented Programming (OOP) is a programming based paradigm that uses \"objects\" to design applications and computer programs.   \n",
    "OOP allows for modelling real world scenarios using classes and objects.   \n"
   ]
  },
  {
   "cell_type": "code",
   "execution_count": 1,
   "id": "4c361d46",
   "metadata": {},
   "outputs": [
    {
     "name": "stdout",
     "output_type": "stream",
     "text": [
      "<class '__main__.Car'>\n",
      "<class '__main__.Car'>\n"
     ]
    }
   ],
   "source": [
    "### A class is a blueprint for creating objects. It consists of attributes and methods.\n",
    "\n",
    "class Car: #class is the keyword\n",
    "    pass\n",
    "\n",
    "audi = Car()\n",
    "bmw = Car()\n",
    "print(type(audi))\n",
    "print(type(bmw))"
   ]
  },
  {
   "cell_type": "code",
   "execution_count": null,
   "id": "11506c48",
   "metadata": {},
   "outputs": [
    {
     "name": "stdout",
     "output_type": "stream",
     "text": [
      "<__main__.Car object at 0x0000023D8E6BAF50>\n",
      "<__main__.Car object at 0x0000023D8E6B8B20>\n"
     ]
    }
   ],
   "source": [
    "print(audi)\n",
    "print(bmw)\n",
    "\n",
    "#Displays it is Car object at a particular memory location"
   ]
  },
  {
   "cell_type": "code",
   "execution_count": null,
   "id": "85f56fe2",
   "metadata": {},
   "outputs": [
    {
     "name": "stdout",
     "output_type": "stream",
     "text": [
      "4\n"
     ]
    }
   ],
   "source": [
    "audi.windows = 4 #Defining the attributes like this is not a proper way as the attribute is not present in all objects\n",
    "print(audi.windows)\n",
    "#However this is possible"
   ]
  },
  {
   "cell_type": "code",
   "execution_count": 6,
   "id": "d2d3b2ba",
   "metadata": {},
   "outputs": [
    {
     "ename": "AttributeError",
     "evalue": "'Car' object has no attribute 'windows'",
     "output_type": "error",
     "traceback": [
      "\u001b[1;31m---------------------------------------------------------------------------\u001b[0m",
      "\u001b[1;31mAttributeError\u001b[0m                            Traceback (most recent call last)",
      "Cell \u001b[1;32mIn[6], line 3\u001b[0m\n\u001b[0;32m      1\u001b[0m tata \u001b[38;5;241m=\u001b[39m Car()\n\u001b[0;32m      2\u001b[0m tata\u001b[38;5;241m.\u001b[39mdoors \u001b[38;5;241m=\u001b[39m \u001b[38;5;241m4\u001b[39m\n\u001b[1;32m----> 3\u001b[0m \u001b[38;5;28mprint\u001b[39m(\u001b[43mtata\u001b[49m\u001b[38;5;241;43m.\u001b[39;49m\u001b[43mwindows\u001b[49m)\n",
      "\u001b[1;31mAttributeError\u001b[0m: 'Car' object has no attribute 'windows'"
     ]
    }
   ],
   "source": [
    "tata = Car()\n",
    "tata.doors = 4\n",
    "print(tata.windows)"
   ]
  },
  {
   "cell_type": "code",
   "execution_count": 7,
   "id": "8d13210b",
   "metadata": {},
   "outputs": [
    {
     "data": {
      "text/plain": [
       "['__class__',\n",
       " '__delattr__',\n",
       " '__dict__',\n",
       " '__dir__',\n",
       " '__doc__',\n",
       " '__eq__',\n",
       " '__format__',\n",
       " '__ge__',\n",
       " '__getattribute__',\n",
       " '__gt__',\n",
       " '__hash__',\n",
       " '__init__',\n",
       " '__init_subclass__',\n",
       " '__le__',\n",
       " '__lt__',\n",
       " '__module__',\n",
       " '__ne__',\n",
       " '__new__',\n",
       " '__reduce__',\n",
       " '__reduce_ex__',\n",
       " '__repr__',\n",
       " '__setattr__',\n",
       " '__sizeof__',\n",
       " '__str__',\n",
       " '__subclasshook__',\n",
       " '__weakref__']"
      ]
     },
     "execution_count": 7,
     "metadata": {},
     "output_type": "execute_result"
    }
   ],
   "source": [
    "dir(Car)\n",
    "#dir(Class) gives us a list of all the different inbuilt methods "
   ]
  },
  {
   "cell_type": "code",
   "execution_count": null,
   "id": "a1608814",
   "metadata": {},
   "outputs": [
    {
     "data": {
      "text/plain": [
       "['__class__',\n",
       " '__delattr__',\n",
       " '__dict__',\n",
       " '__dir__',\n",
       " '__doc__',\n",
       " '__eq__',\n",
       " '__format__',\n",
       " '__ge__',\n",
       " '__getattribute__',\n",
       " '__gt__',\n",
       " '__hash__',\n",
       " '__init__',\n",
       " '__init_subclass__',\n",
       " '__le__',\n",
       " '__lt__',\n",
       " '__module__',\n",
       " '__ne__',\n",
       " '__new__',\n",
       " '__reduce__',\n",
       " '__reduce_ex__',\n",
       " '__repr__',\n",
       " '__setattr__',\n",
       " '__sizeof__',\n",
       " '__str__',\n",
       " '__subclasshook__',\n",
       " '__weakref__',\n",
       " 'doors']"
      ]
     },
     "execution_count": 8,
     "metadata": {},
     "output_type": "execute_result"
    }
   ],
   "source": [
    "dir(tata)\n",
    "#We can also see doors which is the attribute that we created in this list"
   ]
  },
  {
   "cell_type": "code",
   "execution_count": 10,
   "id": "cab28acc",
   "metadata": {},
   "outputs": [
    {
     "name": "stdout",
     "output_type": "stream",
     "text": [
      "<__main__.Dog object at 0x0000023D8FA784C0>\n",
      "Hershey 1\n"
     ]
    }
   ],
   "source": [
    "### Instance variable and methods\n",
    "class Dog:\n",
    "    ## Constructor\n",
    "    #With the help of the consturctor, if we want to initially define any attributes, we can do so.\n",
    "    def __init__(self,name, age): #We have to give these two attributes name and age while creating an object of this class\n",
    "        #Instead of self, we can write some other name as well\n",
    "        #But using self is considered a good practice worldwide\n",
    "        #self would be responsible for accessing the instance variable inside the class\n",
    "        self.name = name #name is the parameter that is being passed, and the self.name is an instance variable available inside the Dog Class\n",
    "        self.age = age\n",
    "\n",
    "## Creating objects\n",
    "dog1 = Dog(\"Hershey\", 1)\n",
    "print(dog1)\n",
    "print(dog1.name, dog1.age)\n",
    "\n"
   ]
  },
  {
   "cell_type": "code",
   "execution_count": 11,
   "id": "8021f72d",
   "metadata": {},
   "outputs": [
    {
     "ename": "TypeError",
     "evalue": "Dog.__init__() missing 2 required positional arguments: 'name' and 'age'",
     "output_type": "error",
     "traceback": [
      "\u001b[1;31m---------------------------------------------------------------------------\u001b[0m",
      "\u001b[1;31mTypeError\u001b[0m                                 Traceback (most recent call last)",
      "Cell \u001b[1;32mIn[11], line 1\u001b[0m\n\u001b[1;32m----> 1\u001b[0m dog2 \u001b[38;5;241m=\u001b[39m \u001b[43mDog\u001b[49m\u001b[43m(\u001b[49m\u001b[43m)\u001b[49m \n",
      "\u001b[1;31mTypeError\u001b[0m: Dog.__init__() missing 2 required positional arguments: 'name' and 'age'"
     ]
    }
   ],
   "source": [
    "dog2 = Dog() "
   ]
  },
  {
   "cell_type": "code",
   "execution_count": 12,
   "id": "0ca6d1b4",
   "metadata": {},
   "outputs": [
    {
     "name": "stdout",
     "output_type": "stream",
     "text": [
      "Tyson\n",
      "12\n"
     ]
    }
   ],
   "source": [
    "dog3 = Dog(\"Tyson\", 12)\n",
    "print(dog3.name)\n",
    "print(dog3.age)"
   ]
  },
  {
   "cell_type": "code",
   "execution_count": 16,
   "id": "2b9f8304",
   "metadata": {},
   "outputs": [
    {
     "name": "stdout",
     "output_type": "stream",
     "text": [
      "<__main__.Dog object at 0x0000023D8F96E3E0>\n",
      "Scooby do\n",
      "18\n",
      "Scooby do is barking\n",
      "Tommy is barking\n"
     ]
    }
   ],
   "source": [
    "## Defining a Class with instance methods\n",
    "class Dog:\n",
    "    def __init__(self, name, age):\n",
    "        self.name = name\n",
    "        self.age = age\n",
    "    \n",
    "    ## Instance methods\n",
    "    def bark(self): #We are using this self as a parameter here so that we can access the instance variables\n",
    "        print(f\"{self.name} is barking\")\n",
    "\n",
    "dog4 = Dog(\"Scooby do\", 18)\n",
    "print(dog4)\n",
    "print(dog4.name)\n",
    "print(dog4.age)\n",
    "dog4.bark()\n",
    "\n",
    "dog5 = Dog(\"Tommy\", 7)\n",
    "dog5.bark()"
   ]
  },
  {
   "cell_type": "code",
   "execution_count": null,
   "id": "c97b6296",
   "metadata": {},
   "outputs": [
    {
     "name": "stdout",
     "output_type": "stream",
     "text": [
      "Krish\n",
      "999999999\n",
      "9999 is deposited. Your new balance is 1000009998.\n",
      "99999 is withdrawn. Your new balance is 999909999\n",
      "Your balance is 999909999\n"
     ]
    }
   ],
   "source": [
    "### Modelling a Bank Account\n",
    "\n",
    "class BankAccount: #It is good practice to use capital initial letters while defining a class\n",
    "    def __init__(self, owner, balance=0): #self.owner and owner do not need to be same, self.own can be also equal to owner\n",
    "        self.owner = owner\n",
    "        self.balance = balance\n",
    "\n",
    "    def deposit(self, amount):\n",
    "        self.balance += amount\n",
    "        print(f\"{amount} is deposited. Your new balance is {self.balance}.\")\n",
    "    \n",
    "    def withdraw(self, amount):\n",
    "        if(amount>self.balance):\n",
    "            print(\"Insufficient balance.\")\n",
    "        else:\n",
    "            self.balance -= amount\n",
    "            print(f\"{amount} is withdrawn. Your new balance is {self.balance}\")\n",
    "    \n",
    "    def get_balance(self):\n",
    "        print(f\"Your balance is {self.balance}\")\n",
    "    \n",
    "b1 = BankAccount(\"Krish\", 999999999)\n",
    "print(b1.owner)\n",
    "print(b1.balance)\n",
    "\n",
    "#Calling instance methods\n",
    "b1.deposit(9999)\n",
    "b1.withdraw(99999)\n",
    "b1.get_balance()"
   ]
  }
 ],
 "metadata": {
  "kernelspec": {
   "display_name": "Python 3",
   "language": "python",
   "name": "python3"
  },
  "language_info": {
   "codemirror_mode": {
    "name": "ipython",
    "version": 3
   },
   "file_extension": ".py",
   "mimetype": "text/x-python",
   "name": "python",
   "nbconvert_exporter": "python",
   "pygments_lexer": "ipython3",
   "version": "3.10.0"
  }
 },
 "nbformat": 4,
 "nbformat_minor": 5
}
