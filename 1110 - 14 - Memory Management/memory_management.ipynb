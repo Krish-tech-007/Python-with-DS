{
 "cells": [
  {
   "cell_type": "markdown",
   "id": "1803b5a6",
   "metadata": {},
   "source": [
    "### Python Memory Management"
   ]
  },
  {
   "cell_type": "markdown",
   "id": "28dad5c5",
   "metadata": {},
   "source": [
    "Memory Management in Python involves a combination of automatic garbage collection, reference counting, and various internal optimizations to efficiently manage memory allocation and deallocation.  "
   ]
  },
  {
   "cell_type": "markdown",
   "id": "af7148e3",
   "metadata": {},
   "source": [
    "#### Reference Counting"
   ]
  },
  {
   "cell_type": "markdown",
   "id": "2f4a9539",
   "metadata": {},
   "source": [
    "Reference counting is the primary method Python uses to manage memory.  \n",
    "Each objectt in Python maintains a count of references pointing to it.  \n",
    "When the reference count drops to zero, the memory occupied by the object is deallocated."
   ]
  },
  {
   "cell_type": "code",
   "execution_count": null,
   "id": "a4ff390c",
   "metadata": {},
   "outputs": [
    {
     "name": "stdout",
     "output_type": "stream",
     "text": [
      "2\n"
     ]
    }
   ],
   "source": [
    "### Reference Counting\n",
    "import sys #system configuration    \n",
    "a = []\n",
    "print(sys.getrefcount(a)) ## 2\n",
    "# One reference is from 'a' variable and another from getrefcount() function as it is also referring to a"
   ]
  },
  {
   "cell_type": "code",
   "execution_count": 2,
   "id": "9039d836",
   "metadata": {},
   "outputs": [
    {
     "name": "stdout",
     "output_type": "stream",
     "text": [
      "3\n"
     ]
    }
   ],
   "source": [
    "b = a\n",
    "print(sys.getrefcount(a)) ## 3\n",
    "## One reference is from 'a' variable, another from 'b' variable and third from getrefcount() function"
   ]
  },
  {
   "cell_type": "code",
   "execution_count": null,
   "id": "b2aa29cf",
   "metadata": {},
   "outputs": [
    {
     "name": "stdout",
     "output_type": "stream",
     "text": [
      "2\n"
     ]
    }
   ],
   "source": [
    "del b\n",
    "print(sys.getrefcount(a)) ## 2\n",
    "## One reference is from 'a' variable and another from getrefcount() function"
   ]
  },
  {
   "cell_type": "markdown",
   "id": "3236cf5b",
   "metadata": {},
   "source": [
    "#### Garbage collection"
   ]
  },
  {
   "cell_type": "markdown",
   "id": "07556503",
   "metadata": {},
   "source": [
    "Python includes a cyclic garbage collector to handle reference cycles.  \n",
    "Reference cycles occur when objects reference each other, preventing their reference counts to reach zero."
   ]
  },
  {
   "cell_type": "code",
   "execution_count": 4,
   "id": "f5b4d298",
   "metadata": {},
   "outputs": [],
   "source": [
    "import gc #garbage collector\n",
    "\n",
    "## enable garbage collector\n",
    "gc.enable()"
   ]
  },
  {
   "cell_type": "code",
   "execution_count": 5,
   "id": "e27cc4ec",
   "metadata": {},
   "outputs": [],
   "source": [
    "## disable the garbage collector()\n",
    "gc.disable()"
   ]
  },
  {
   "cell_type": "code",
   "execution_count": 6,
   "id": "83c43965",
   "metadata": {},
   "outputs": [
    {
     "data": {
      "text/plain": [
       "263"
      ]
     },
     "execution_count": 6,
     "metadata": {},
     "output_type": "execute_result"
    }
   ],
   "source": [
    "## Manually trigger the garbage collector\n",
    "gc.collect()"
   ]
  },
  {
   "cell_type": "code",
   "execution_count": 7,
   "id": "c6503a11",
   "metadata": {},
   "outputs": [
    {
     "name": "stdout",
     "output_type": "stream",
     "text": [
      "[{'collections': 202, 'collected': 2698, 'uncollectable': 0}, {'collections': 18, 'collected': 472, 'uncollectable': 0}, {'collections': 2, 'collected': 291, 'uncollectable': 0}]\n"
     ]
    }
   ],
   "source": [
    "## Get garbage collection statistics\n",
    "print(gc.get_stats())"
   ]
  },
  {
   "cell_type": "code",
   "execution_count": 8,
   "id": "de76bdc0",
   "metadata": {},
   "outputs": [
    {
     "name": "stdout",
     "output_type": "stream",
     "text": [
      "[]\n"
     ]
    }
   ],
   "source": [
    "## Get unreachable objects\n",
    "print(gc.garbage)"
   ]
  },
  {
   "cell_type": "markdown",
   "id": "7cc9649c",
   "metadata": {},
   "source": [
    "#### Memory Management - Best Practices"
   ]
  },
  {
   "cell_type": "markdown",
   "id": "54830fa4",
   "metadata": {},
   "source": [
    "1. Use Local Variables - Local variables have a shorter lifespan and are freed sooner than global variables.  \n",
    "2. Avoid Circular References - Circular references can lead to memory leaks if not properly managed.\n",
    "3. Use Generators - Generators produce items one at a time and only keep one item in memory at a time, making them more efficient.\n",
    "4. Explicitly Delete Objects - Use the del statement to delete variables and objects explicitly.\n",
    "5. Profile Memory Usage - Use memory profiling tools like tracemalloc and memory_profiler to identify memory leaks and optimise memory usage "
   ]
  },
  {
   "cell_type": "code",
   "execution_count": null,
   "id": "74790c85",
   "metadata": {},
   "outputs": [
    {
     "name": "stdout",
     "output_type": "stream",
     "text": [
      "Object obj1 created\n",
      "Object obj2 created\n",
      "Object obj1 deleted\n",
      "Object obj2 deleted\n",
      "Object obj1 deleted\n",
      "Object obj2 deleted\n"
     ]
    },
    {
     "data": {
      "text/plain": [
       "1889"
      ]
     },
     "execution_count": 10,
     "metadata": {},
     "output_type": "execute_result"
    }
   ],
   "source": [
    "## Handling Circular Reference\n",
    "\n",
    "import gc\n",
    "\n",
    "class MyObject:\n",
    "    def __init__(self,name):\n",
    "        self.name = name\n",
    "        print(f\"Object {self.name} created\")\n",
    "    \n",
    "    def __del__(self):\n",
    "        print(f'Object {self.name} deleted')\n",
    "\n",
    "## Create circular reference\n",
    "obj1 = MyObject(\"obj1\")\n",
    "obj2 = MyObject(\"obj2\")\n",
    "\n",
    "## Circular reference\n",
    "obj1.ref = obj2\n",
    "obj2.ref = obj1\n",
    "\n",
    "del obj1 \n",
    "del obj2\n",
    "## Nothing will be executed when the objects are attempted to be deleted using the del keyword\n",
    "## Both the objects would be unreachable.\n",
    "## Hence they wouldn't be garbage collected due to circular reference.\n",
    "\n",
    "## Hence we need to trigger the garbage collector manually.\n",
    "gc.collect() ## __del__ methods of the objects are called when this is triggered in case of circular reference.\n"
   ]
  },
  {
   "cell_type": "code",
   "execution_count": 11,
   "id": "2b0af6d5",
   "metadata": {},
   "outputs": [
    {
     "name": "stdout",
     "output_type": "stream",
     "text": [
      "Garbage collected objects: []\n"
     ]
    }
   ],
   "source": [
    "## Print collected objects\n",
    "print(f\"Garbage collected objects: {gc.garbage}\")"
   ]
  },
  {
   "cell_type": "code",
   "execution_count": null,
   "id": "f048db17",
   "metadata": {},
   "outputs": [],
   "source": [
    "## Generators for Memory efficiency\n",
    "## Generators allow us to produce items one at a time, using memory efficiently by only keeping one item in memory at a time.\n",
    "def generate_numbers(n):\n",
    "    for i in range(n):\n",
    "        yield i\n",
    "\n",
    "## Using the generator"
   ]
  }
 ],
 "metadata": {
  "kernelspec": {
   "display_name": "Python 3",
   "language": "python",
   "name": "python3"
  },
  "language_info": {
   "codemirror_mode": {
    "name": "ipython",
    "version": 3
   },
   "file_extension": ".py",
   "mimetype": "text/x-python",
   "name": "python",
   "nbconvert_exporter": "python",
   "pygments_lexer": "ipython3",
   "version": "3.10.0"
  }
 },
 "nbformat": 4,
 "nbformat_minor": 5
}
