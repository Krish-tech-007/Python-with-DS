{
 "cells": [
  {
   "cell_type": "markdown",
   "metadata": {},
   "source": [
    "### Real World Examples using Lists in Python"
   ]
  },
  {
   "cell_type": "markdown",
   "metadata": {},
   "source": [
    "#### Example 1: Mangage a TODO list"
   ]
  },
  {
   "cell_type": "code",
   "execution_count": 7,
   "metadata": {},
   "outputs": [
    {
     "name": "stdout",
     "output_type": "stream",
     "text": [
      "Don't forget to Study\n",
      "Remaining tasks\n",
      "-Study Semiconductor\n",
      "-Food\n"
     ]
    }
   ],
   "source": [
    "to_do_list = [\"Study Semiconductor\", \"Food\"]\n",
    "\n",
    "#Adding to task\n",
    "to_do_list.append(\"Dry Clothes\")\n",
    "\n",
    "#Removing a task\n",
    "to_do_list.remove(\"Dry Clothes\")\n",
    "\n",
    "#Checking if a task in the list\n",
    "if \"Study Semiconductor\" in to_do_list:\n",
    "    print(\"Don't forget to Study\")\n",
    "\n",
    "print(\"Remaining tasks\")\n",
    "for task in to_do_list:\n",
    "    print(f\"-{task}\")"
   ]
  },
  {
   "cell_type": "markdown",
   "metadata": {},
   "source": [
    "### Example 2: Organizing Student Grades\n"
   ]
  },
  {
   "cell_type": "code",
   "execution_count": 8,
   "metadata": {},
   "outputs": [
    {
     "name": "stdout",
     "output_type": "stream",
     "text": [
      "Average Grade: 84.50\n",
      "Highest Grade: 100\n",
      "Lowest Grade: 54\n"
     ]
    }
   ],
   "source": [
    "grades = [99,88,77,54,100]\n",
    "\n",
    "# Adding a new grade\n",
    "grades.append(89)\n",
    "\n",
    "#Calculating the average grade\n",
    "avg_grade = sum(grades) / len(grades)\n",
    "print(f\"Average Grade: {avg_grade:.2f}\")\n",
    "\n",
    "#Finding the highest and lowest grade\n",
    "highest_grade = max(grades)\n",
    "lowest_grade = min(grades)\n",
    "print(f\"Highest Grade: {highest_grade}\")\n",
    "print(f\"Lowest Grade: {lowest_grade}\")"
   ]
  },
  {
   "cell_type": "markdown",
   "metadata": {},
   "source": [
    "### Example 3: Managing an inventory"
   ]
  },
  {
   "cell_type": "code",
   "execution_count": 13,
   "metadata": {},
   "outputs": [
    {
     "name": "stdout",
     "output_type": "stream",
     "text": [
      "2 Ton Electric Winch is in stock\n",
      "Inventory\n",
      "2 Ton Electric Winch\n",
      "3 Ton Electric Winch\n"
     ]
    }
   ],
   "source": [
    "inventory = [\"5 Ton Electric Winch\", \"2 Ton Electric Winch\"]\n",
    "\n",
    "#Adding inventory\n",
    "inventory.append(\"3 Ton Electric Winch\")\n",
    "\n",
    "#Removing out of stock inventory\n",
    "inventory.remove(\"5 Ton Electric Winch\")\n",
    "\n",
    "#Checking if an item is in stock\n",
    "item = \"2 Ton Electric Winch\"\n",
    "if item in inventory:\n",
    "    print(f\"{item} is in stock\")\n",
    "else:\n",
    "    print(f\"{item} is not in stock\")\n",
    "\n",
    "#Printing the inventory\n",
    "print(\"Inventory\")\n",
    "for winch in inventory:\n",
    "    print(winch)"
   ]
  },
  {
   "cell_type": "markdown",
   "metadata": {},
   "source": [
    "### Example 4: Collecting User Feedback"
   ]
  },
  {
   "cell_type": "code",
   "execution_count": 18,
   "metadata": {},
   "outputs": [
    {
     "name": "stdout",
     "output_type": "stream",
     "text": [
      "Positive feedback count: 2\n",
      "-Good service\n",
      "-Great Experience\n",
      "-Not happy\n"
     ]
    }
   ],
   "source": [
    "# Collecting User Feedback\n",
    "feedbacks = [\"Good service\", \"Great Experience\"]\n",
    "\n",
    "#Adding new feedback\n",
    "feedbacks.append(\"Not happy\")   \n",
    "\n",
    "#Counting specific feedback\n",
    "count = sum(1 for feedback in feedbacks if \"good\" in feedback.lower() or \"great\" in feedback.lower())\n",
    "print(f\"Positive feedback count: {count}\")\n",
    "\n",
    "#Printing all the feedback\n",
    "for feedback in feedbacks:\n",
    "    print(f\"-{feedback}\")"
   ]
  }
 ],
 "metadata": {
  "kernelspec": {
   "display_name": "Python 3",
   "language": "python",
   "name": "python3"
  },
  "language_info": {
   "codemirror_mode": {
    "name": "ipython",
    "version": 3
   },
   "file_extension": ".py",
   "mimetype": "text/x-python",
   "name": "python",
   "nbconvert_exporter": "python",
   "pygments_lexer": "ipython3",
   "version": "3.10.0"
  }
 },
 "nbformat": 4,
 "nbformat_minor": 2
}
