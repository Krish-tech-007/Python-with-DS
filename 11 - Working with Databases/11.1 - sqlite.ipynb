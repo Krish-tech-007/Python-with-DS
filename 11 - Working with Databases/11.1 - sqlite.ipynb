{
 "cells": [
  {
   "cell_type": "markdown",
   "id": "b86e01a5",
   "metadata": {},
   "source": [
    "### SQL and SQLite"
   ]
  },
  {
   "cell_type": "markdown",
   "id": "6f4a4646",
   "metadata": {},
   "source": [
    "SQL (Structured Query Language) is a standard language for managing and manipulating relational databases.    \n",
    "SQLite is a self-contained, serverless, and zero-configuration database engine that is widely used for embedded database systems.    \n",
    "This lesson covers the basics of SQL and SQLite, including creating databases, table, and performing various SQL Operations."
   ]
  },
  {
   "cell_type": "code",
   "execution_count": 1,
   "id": "738ffe26",
   "metadata": {},
   "outputs": [],
   "source": [
    "import sqlite3"
   ]
  },
  {
   "cell_type": "code",
   "execution_count": 2,
   "id": "434b588e",
   "metadata": {},
   "outputs": [
    {
     "data": {
      "text/plain": [
       "<sqlite3.Connection at 0x273ed8b2940>"
      ]
     },
     "execution_count": 2,
     "metadata": {},
     "output_type": "execute_result"
    }
   ],
   "source": [
    "## Connect to a SQLite database\n",
    "connection = sqlite3.connect('example.db')\n",
    "connection"
   ]
  },
  {
   "cell_type": "code",
   "execution_count": 3,
   "id": "ead7f98b",
   "metadata": {},
   "outputs": [],
   "source": [
    "cursor = connection.cursor()"
   ]
  },
  {
   "cell_type": "code",
   "execution_count": 4,
   "id": "cfc117a1",
   "metadata": {},
   "outputs": [],
   "source": [
    "## Create a table\n",
    "cursor.execute('''\n",
    "Create Table If Not Exists employees(\n",
    "               id Integer Primary Key,\n",
    "               name Text Not Null,\n",
    "               age Integer,\n",
    "               department Text\n",
    "               )\n",
    " ''')\n",
    "\n",
    "## Commit the changes\n",
    "connection.commit()"
   ]
  },
  {
   "cell_type": "code",
   "execution_count": 5,
   "id": "c0c4213e",
   "metadata": {},
   "outputs": [
    {
     "data": {
      "text/plain": [
       "<sqlite3.Cursor at 0x273eda30a40>"
      ]
     },
     "execution_count": 5,
     "metadata": {},
     "output_type": "execute_result"
    }
   ],
   "source": [
    "cursor.execute('''\n",
    "Select * from employees\n",
    "''')"
   ]
  },
  {
   "cell_type": "code",
   "execution_count": 6,
   "id": "dc877d4a",
   "metadata": {},
   "outputs": [],
   "source": [
    "## Insert the data in sqlite table\n",
    "cursor.execute('''\n",
    "Insert Into employees(name,age,department)\n",
    "               values('Mohan',34,'Data Scientist')\n",
    "''')\n",
    "\n",
    "cursor.execute('''\n",
    "Insert INTO employees(name,age,department)\n",
    "            values('Bob',44,'Engineering')\n",
    "''')\n",
    "\n",
    "cursor.execute('''\n",
    "Insert INTO employees(name,age,department)\n",
    "               values('Charlie',23,'IT')\n",
    "''')\n",
    "\n",
    "## Commit the changes\n",
    "connection.commit()"
   ]
  },
  {
   "cell_type": "code",
   "execution_count": 7,
   "id": "557af01c",
   "metadata": {},
   "outputs": [
    {
     "name": "stdout",
     "output_type": "stream",
     "text": [
      "(7, 'Bob', 34, 'Engineering')\n",
      "(8, 'Charlie', 23, 'IT')\n",
      "(9, 'Mohan', 34, 'Data Scientist')\n",
      "(10, 'Bob', 44, 'Engineering')\n",
      "(11, 'Charlie', 23, 'IT')\n"
     ]
    }
   ],
   "source": [
    "## Querying the data from the table\n",
    "cursor.execute('Select * from employees')\n",
    "rows = cursor.fetchall() # Get all the records \n",
    "\n",
    "## Print the queried data\n",
    "for row in rows:\n",
    "    print(row)"
   ]
  },
  {
   "cell_type": "code",
   "execution_count": 8,
   "id": "798a6cda",
   "metadata": {},
   "outputs": [
    {
     "data": {
      "text/plain": [
       "<sqlite3.Cursor at 0x273eda30a40>"
      ]
     },
     "execution_count": 8,
     "metadata": {},
     "output_type": "execute_result"
    }
   ],
   "source": [
    "## Update the data in the table\n",
    "cursor.execute('''\n",
    "Update employees\n",
    "Set age=34\n",
    "where name= \"Bob\"\n",
    "''')\n",
    "\n",
    "## Commit the changes"
   ]
  },
  {
   "cell_type": "code",
   "execution_count": 9,
   "id": "5a24e2e8",
   "metadata": {},
   "outputs": [
    {
     "name": "stdout",
     "output_type": "stream",
     "text": [
      "(7, 'Bob', 34, 'Engineering')\n",
      "(8, 'Charlie', 23, 'IT')\n",
      "(9, 'Mohan', 34, 'Data Scientist')\n",
      "(10, 'Bob', 34, 'Engineering')\n",
      "(11, 'Charlie', 23, 'IT')\n"
     ]
    }
   ],
   "source": [
    "cursor.execute(\"Select * from employees\")\n",
    "rows = cursor.fetchall()\n",
    "for row in rows:\n",
    "    print(row)"
   ]
  },
  {
   "cell_type": "code",
   "execution_count": 10,
   "id": "6163b41f",
   "metadata": {},
   "outputs": [],
   "source": [
    "## Delete the data from the table\n",
    "cursor.execute('''\n",
    "Delete from employees\n",
    "               where name='Mohan'\n",
    "''')\n",
    "connection.commit()"
   ]
  },
  {
   "cell_type": "code",
   "execution_count": 11,
   "id": "a0175dad",
   "metadata": {},
   "outputs": [
    {
     "name": "stdout",
     "output_type": "stream",
     "text": [
      "(7, 'Bob', 34, 'Engineering')\n",
      "(8, 'Charlie', 23, 'IT')\n",
      "(10, 'Bob', 34, 'Engineering')\n",
      "(11, 'Charlie', 23, 'IT')\n"
     ]
    }
   ],
   "source": [
    "cursor.execute(\"Select * from employees\")\n",
    "rows = cursor.fetchall()\n",
    "for row in rows:\n",
    "    print(row)"
   ]
  },
  {
   "cell_type": "code",
   "execution_count": 12,
   "id": "9e446db6",
   "metadata": {},
   "outputs": [],
   "source": [
    "## Working with Sales Data\n",
    "\n",
    "# Connect to a SQLite Database \n",
    "connection = sqlite3.connect('sales_data.db')\n",
    "cursor = connection.cursor()\n",
    "\n",
    "# Create a table for sales data\n",
    "cursor.execute('''\n",
    "Create Table If Not Exists  sales(\n",
    "              id Integer Primary Key,\n",
    "              date Text Not Null,\n",
    "              product Text Not Null,\n",
    "              sales Integer,\n",
    "              region Text \n",
    "               )\n",
    "''')\n",
    "\n",
    "# Insert data into the sales table\n",
    "sales_data = [\n",
    "('2023-01-01','Product 1', 100, 'North'),\n",
    "('2023-01-02','Product 2', 200, 'South'),\n",
    "('2023-01-03','Product 1', 150, 'East'),\n",
    "('2023-01-04','Product 3', 250, 'West'),\n",
    "('2023-01-05','Product 2', 300, 'North')\n",
    "]\n",
    "\n",
    "## Bulk Insertion\n",
    "cursor.executemany('''\n",
    "Insert Into sales(date,product,sales,region)\n",
    "            values(?,?,?,?)\n",
    "''', sales_data)\n",
    "\n",
    "# Commiting the changes\n",
    "connection.commit()"
   ]
  },
  {
   "cell_type": "code",
   "execution_count": 13,
   "id": "80ba5cf4",
   "metadata": {},
   "outputs": [
    {
     "name": "stdout",
     "output_type": "stream",
     "text": [
      "(1, '2023-01-01', 'Product 1', 100, 'North')\n",
      "(2, '2023-01-02', 'Product 2', 200, 'South')\n",
      "(3, '2023-01-03', 'Product 1', 150, 'East')\n",
      "(4, '2023-01-04', 'Product 3', 250, 'West')\n",
      "(5, '2023-01-05', 'Product 2', 300, 'North')\n",
      "(6, '2023-01-01', 'Product 1', 100, 'North')\n",
      "(7, '2023-01-02', 'Product 2', 200, 'South')\n",
      "(8, '2023-01-03', 'Product 1', 150, 'East')\n",
      "(9, '2023-01-04', 'Product 3', 250, 'West')\n",
      "(10, '2023-01-05', 'Product 2', 300, 'North')\n"
     ]
    }
   ],
   "source": [
    "cursor.execute(\"Select * from sales\")\n",
    "rows = cursor.fetchall()\n",
    "for row in rows:\n",
    "    print(row)"
   ]
  },
  {
   "cell_type": "code",
   "execution_count": 14,
   "id": "8001a4ce",
   "metadata": {},
   "outputs": [],
   "source": [
    "## Closing the connection\n",
    "connection.close()"
   ]
  }
 ],
 "metadata": {
  "kernelspec": {
   "display_name": "Python 3",
   "language": "python",
   "name": "python3"
  },
  "language_info": {
   "codemirror_mode": {
    "name": "ipython",
    "version": 3
   },
   "file_extension": ".py",
   "mimetype": "text/x-python",
   "name": "python",
   "nbconvert_exporter": "python",
   "pygments_lexer": "ipython3",
   "version": "3.10.0"
  }
 },
 "nbformat": 4,
 "nbformat_minor": 5
}
