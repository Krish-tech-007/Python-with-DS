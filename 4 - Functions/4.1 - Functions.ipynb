{
 "cells": [
  {
   "cell_type": "markdown",
   "metadata": {},
   "source": [
    "### Functions in Python"
   ]
  },
  {
   "cell_type": "markdown",
   "metadata": {},
   "source": [
    "#### Introduction to Functions"
   ]
  },
  {
   "cell_type": "markdown",
   "metadata": {},
   "source": [
    "##### Definition:\n",
    "A function is a block of code that performs a specific task.  \n",
    "Function helps in organizing code, reusing code, and improving readability."
   ]
  },
  {
   "cell_type": "code",
   "execution_count": null,
   "metadata": {},
   "outputs": [],
   "source": [
    "## Syntax\n",
    "#Empty function\n",
    "def function_name(parameters):\n",
    "    \"\"\"Docstring\"\"\"\n",
    "    #Function Body\n",
    "    return expression\n",
    "\n",
    "#A function starts with the definition keyword, then we have the function name and parameters if we are defining them\n",
    "#Docstring helps to document what the specific function does so that any developer may be able to understand it\n",
    "#Function body refers to all the code we will be using inside the function  \n",
    "#We also return some value, which is not necessary\n"
   ]
  },
  {
   "cell_type": "code",
   "execution_count": 2,
   "metadata": {},
   "outputs": [],
   "source": [
    "## Need for functions\n",
    "## Reusability\n",
    "\n",
    "def even_or_odd(num):\n",
    "    \"\"\"Function determines whether a number is odd or even\"\"\"\n",
    "    if num%2==0:\n",
    "        print(f\"{num} is even\")\n",
    "    else:\n",
    "        print(f\"{num} is odd\")"
   ]
  },
  {
   "cell_type": "code",
   "execution_count": 3,
   "metadata": {},
   "outputs": [
    {
     "name": "stdout",
     "output_type": "stream",
     "text": [
      "10 is even\n",
      "11 is odd\n"
     ]
    }
   ],
   "source": [
    "## Calling function\n",
    "even_or_odd(10)\n",
    "even_or_odd(11)"
   ]
  },
  {
   "cell_type": "code",
   "execution_count": 1,
   "metadata": {},
   "outputs": [
    {
     "name": "stdout",
     "output_type": "stream",
     "text": [
      "The result is 30\n"
     ]
    }
   ],
   "source": [
    "## Function with multiple parameters\n",
    "def add(a,b):\n",
    "    \"\"\"This functions adds two numbers\"\"\"\n",
    "    return a + b\n",
    "\n",
    "result = add(10,20)\n",
    "print(\"The result is\", result)"
   ]
  },
  {
   "cell_type": "code",
   "execution_count": null,
   "metadata": {},
   "outputs": [
    {
     "name": "stdout",
     "output_type": "stream",
     "text": [
      "Welcome Krish\n"
     ]
    }
   ],
   "source": [
    "## Default parameters\n",
    "## We can give default value to parameters\n",
    "## If no value of the parameter is provided during function call, the value of the parameter would be the default value assigned to it\n",
    "def greet(name=\"Guest\"):\n",
    "    print(f\"Welcome {name}\")\n",
    "\n",
    "greet(\"Krish\")"
   ]
  },
  {
   "cell_type": "code",
   "execution_count": null,
   "metadata": {},
   "outputs": [
    {
     "ename": "TypeError",
     "evalue": "greet() missing 1 required positional argument: 'name'",
     "output_type": "error",
     "traceback": [
      "\u001b[1;31m---------------------------------------------------------------------------\u001b[0m",
      "\u001b[1;31mTypeError\u001b[0m                                 Traceback (most recent call last)",
      "Cell \u001b[1;32mIn[3], line 1\u001b[0m\n\u001b[1;32m----> 1\u001b[0m \u001b[43mgreet\u001b[49m\u001b[43m(\u001b[49m\u001b[43m)\u001b[49m\n",
      "\u001b[1;31mTypeError\u001b[0m: greet() missing 1 required positional argument: 'name'"
     ]
    }
   ],
   "source": [
    "#Before adding default value to the parameter\n",
    "greet()"
   ]
  },
  {
   "cell_type": "code",
   "execution_count": 6,
   "metadata": {},
   "outputs": [
    {
     "name": "stdout",
     "output_type": "stream",
     "text": [
      "Welcome Guest\n"
     ]
    }
   ],
   "source": [
    "#After adding default value to the parameter\n",
    "greet()"
   ]
  },
  {
   "cell_type": "code",
   "execution_count": null,
   "metadata": {},
   "outputs": [],
   "source": [
    "## Variable length arguments\n",
    "## Positional and Keyword arguments\n",
    "\n",
    "\n",
    "## Positional arguments\n",
    "def print_numbers(*args): #args is just a name, some other name can be used as well\n",
    "    #In this case, the *args will be having multiple parameters\n",
    "    for number in args:\n",
    "        print(number)"
   ]
  },
  {
   "cell_type": "code",
   "execution_count": null,
   "metadata": {},
   "outputs": [
    {
     "name": "stdout",
     "output_type": "stream",
     "text": [
      "1\n",
      "2\n",
      "3\n",
      "4\n",
      "5\n"
     ]
    }
   ],
   "source": [
    "print_numbers(1,2,3,4,5) #This set of parameters are called positional arguments"
   ]
  },
  {
   "cell_type": "code",
   "execution_count": 9,
   "metadata": {},
   "outputs": [
    {
     "name": "stdout",
     "output_type": "stream",
     "text": [
      "1\n",
      "2\n"
     ]
    }
   ],
   "source": [
    "print_numbers(1,2)"
   ]
  },
  {
   "cell_type": "code",
   "execution_count": 10,
   "metadata": {},
   "outputs": [
    {
     "name": "stdout",
     "output_type": "stream",
     "text": [
      "Krish\n",
      "2\n",
      "3\n"
     ]
    }
   ],
   "source": [
    "print_numbers(\"Krish\", 2, 3)"
   ]
  },
  {
   "cell_type": "code",
   "execution_count": 4,
   "metadata": {},
   "outputs": [],
   "source": [
    "### Keyword arguments\n",
    "\n",
    "def print_details(**kwargs): #keyword arguments are given by ** followed by any name, usually kwargs\n",
    "    #In keyword arguments, all the parameters would be in the form of key, value pairs \n",
    "    #We can access it like we access a dictionary\n",
    "    for key,value in kwargs.items():\n",
    "        print(f\"{key} : {value}\")\n"
   ]
  },
  {
   "cell_type": "code",
   "execution_count": 5,
   "metadata": {},
   "outputs": [
    {
     "name": "stdout",
     "output_type": "stream",
     "text": [
      "name : krish\n",
      "college : SRM\n"
     ]
    }
   ],
   "source": [
    "print_details(name=\"krish\",college=\"SRM\")"
   ]
  },
  {
   "cell_type": "code",
   "execution_count": 8,
   "metadata": {},
   "outputs": [],
   "source": [
    "## Combination of positional arguments and keyword arguments\n",
    "def print_details(*args, **kwargs):\n",
    "    for val in args:\n",
    "        print(f\"Positional argument : {val}\")\n",
    "    for key,value in kwargs.items():\n",
    "        print(f\"{key} : {value}\")"
   ]
  },
  {
   "cell_type": "code",
   "execution_count": 9,
   "metadata": {},
   "outputs": [
    {
     "name": "stdout",
     "output_type": "stream",
     "text": [
      "Positional argument : 1\n",
      "Positional argument : 2\n",
      "Positional argument : 3\n",
      "name : Krish\n"
     ]
    }
   ],
   "source": [
    "print_details(1,2,3,name=\"Krish\")"
   ]
  },
  {
   "cell_type": "code",
   "execution_count": 10,
   "metadata": {},
   "outputs": [
    {
     "ename": "SyntaxError",
     "evalue": "positional argument follows keyword argument (4228457125.py, line 1)",
     "output_type": "error",
     "traceback": [
      "\u001b[1;36m  Cell \u001b[1;32mIn[10], line 1\u001b[1;36m\u001b[0m\n\u001b[1;33m    print_details(1,2,3,name=\"Krish\", 4, 5)\u001b[0m\n\u001b[1;37m                                          ^\u001b[0m\n\u001b[1;31mSyntaxError\u001b[0m\u001b[1;31m:\u001b[0m positional argument follows keyword argument\n"
     ]
    }
   ],
   "source": [
    "print_details(1,2,3,name=\"Krish\", 4, 5)"
   ]
  },
  {
   "cell_type": "code",
   "execution_count": 11,
   "metadata": {},
   "outputs": [],
   "source": [
    "### return statement \n",
    "## Our function returns something after it is executed\n",
    "def multiply(a,b):\n",
    "    return a*b"
   ]
  },
  {
   "cell_type": "code",
   "execution_count": 12,
   "metadata": {},
   "outputs": [
    {
     "data": {
      "text/plain": [
       "6"
      ]
     },
     "execution_count": 12,
     "metadata": {},
     "output_type": "execute_result"
    }
   ],
   "source": [
    "multiply(2,3)"
   ]
  },
  {
   "cell_type": "code",
   "execution_count": null,
   "metadata": {},
   "outputs": [],
   "source": [
    "## Function with multiple return values\n",
    "## In python, function can also return multiple values  \n",
    "def multiply(a,b):\n",
    "    return a,\"*\",b,\"=\",a*b"
   ]
  },
  {
   "cell_type": "code",
   "execution_count": 14,
   "metadata": {},
   "outputs": [
    {
     "data": {
      "text/plain": [
       "(2, '*', 3, '=', 6)"
      ]
     },
     "execution_count": 14,
     "metadata": {},
     "output_type": "execute_result"
    }
   ],
   "source": [
    "multiply(2,3)"
   ]
  }
 ],
 "metadata": {
  "kernelspec": {
   "display_name": "Python 3",
   "language": "python",
   "name": "python3"
  },
  "language_info": {
   "codemirror_mode": {
    "name": "ipython",
    "version": 3
   },
   "file_extension": ".py",
   "mimetype": "text/x-python",
   "name": "python",
   "nbconvert_exporter": "python",
   "pygments_lexer": "ipython3",
   "version": "3.10.0"
  }
 },
 "nbformat": 4,
 "nbformat_minor": 2
}
