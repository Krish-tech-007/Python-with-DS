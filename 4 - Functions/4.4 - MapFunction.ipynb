{
 "cells": [
  {
   "cell_type": "markdown",
   "id": "f8e2fb46",
   "metadata": {},
   "source": [
    "### The map() function in Python"
   ]
  },
  {
   "cell_type": "markdown",
   "id": "0f31107e",
   "metadata": {},
   "source": [
    "The map() function applies a given function to all items in an input list (or any other iterable) and returns a map object (an iterator).  \n",
    "This is particularly useful for transforming data in a list comprehensively."
   ]
  },
  {
   "cell_type": "code",
   "execution_count": 1,
   "id": "c4a00df4",
   "metadata": {},
   "outputs": [
    {
     "data": {
      "text/plain": [
       "[1, 4, 9, 16, 25, 36, 49, 64]"
      ]
     },
     "execution_count": 1,
     "metadata": {},
     "output_type": "execute_result"
    }
   ],
   "source": [
    "def square(num):\n",
    "    return num ** 2\n",
    "\n",
    "numbers = [1,2,3,4,5,6,7,8]\n",
    "list(map(square,numbers))"
   ]
  },
  {
   "cell_type": "code",
   "execution_count": null,
   "id": "cb2e9eca",
   "metadata": {},
   "outputs": [
    {
     "data": {
      "text/plain": [
       "[1, 4, 9, 16, 25, 36, 49, 64]"
      ]
     },
     "execution_count": 4,
     "metadata": {},
     "output_type": "execute_result"
    }
   ],
   "source": [
    "##Lambda function with map\n",
    "numbers = [1,2,3,4,5,6,7,8]\n",
    "list(map(lambda num : num ** 2, numbers))\n"
   ]
  },
  {
   "cell_type": "code",
   "execution_count": 5,
   "id": "380926ff",
   "metadata": {},
   "outputs": [
    {
     "name": "stdout",
     "output_type": "stream",
     "text": [
      "[5, 7, 9]\n"
     ]
    }
   ],
   "source": [
    "## Map multiple iterables\n",
    "numbers1 = [1,2,3]\n",
    "numbers2 = [4,5,6]\n",
    "\n",
    "added_numbers = list(map(lambda x,y:x+y, numbers1, numbers2))\n",
    "print(added_numbers)"
   ]
  },
  {
   "cell_type": "code",
   "execution_count": null,
   "id": "3927580d",
   "metadata": {},
   "outputs": [
    {
     "name": "stdout",
     "output_type": "stream",
     "text": [
      "[1, 2, 3]\n"
     ]
    }
   ],
   "source": [
    "## map() to convert a list of strings to integers\n",
    "str_numbers = ['1','2','3']\n",
    "int_numbers = list(map(lambda x:int(x), str_numbers))\n",
    "print(int_numbers)"
   ]
  },
  {
   "cell_type": "code",
   "execution_count": null,
   "id": "3ed4e686",
   "metadata": {},
   "outputs": [
    {
     "name": "stdout",
     "output_type": "stream",
     "text": [
      "[4, 5, 6]\n"
     ]
    }
   ],
   "source": [
    "## Using map() to convert a list of strings to integers\n",
    "str_list = [4,5,6]\n",
    "int_list = list(map(int, str_list)) #Typecast operatin is applied to every element of the list to int\n",
    "print(int_list)"
   ]
  },
  {
   "cell_type": "code",
   "execution_count": null,
   "id": "87a6f521",
   "metadata": {},
   "outputs": [
    {
     "name": "stdout",
     "output_type": "stream",
     "text": [
      "['APPLE', 'BANANA', 'POMEGRANATE']\n"
     ]
    }
   ],
   "source": [
    "## Using map() to apply inbuilt functions\n",
    "words = ['apple','banana','pomegranate']\n",
    "upper_words = list(map(str.upper,words))\n",
    "print(upper_words)"
   ]
  },
  {
   "cell_type": "code",
   "execution_count": null,
   "id": "a9db9bfa",
   "metadata": {},
   "outputs": [
    {
     "name": "stdout",
     "output_type": "stream",
     "text": [
      "['MONDAY', 'TUESDAY', 'WEDNESDAY']\n"
     ]
    }
   ],
   "source": [
    "## Using map() to apply inbuilt functions\n",
    "## Alternatively\n",
    "words = ['monday','tuesday','wednesday']\n",
    "upper_words = list(map(lambda x : x.upper(), words))\n",
    "print(upper_words)"
   ]
  },
  {
   "cell_type": "code",
   "execution_count": 18,
   "id": "61bc382a",
   "metadata": {},
   "outputs": [
    {
     "name": "stdout",
     "output_type": "stream",
     "text": [
      "['krish', 'ram', 'shyam']\n"
     ]
    }
   ],
   "source": [
    "## Applying map() to a list of dictionaries\n",
    "def get_name(person):\n",
    "    return person['name']\n",
    "\n",
    "persons = [{'name':'krish', 'age':19},{'name':'ram', 'age':20},{'name':'shyam', 'age':21}]\n",
    "names = list(map(get_name, persons))\n",
    "print(names)"
   ]
  },
  {
   "cell_type": "markdown",
   "id": "0053124b",
   "metadata": {},
   "source": [
    "### Conclusion\n",
    "The map() function is a powerful tool for applying transformations to iterable data structures.  \n",
    "It can be used with regular functions, lambda functions and even multiple iterables, providing a versatile approach to data processing in Python.  \n"
   ]
  }
 ],
 "metadata": {
  "kernelspec": {
   "display_name": "Python 3",
   "language": "python",
   "name": "python3"
  },
  "language_info": {
   "codemirror_mode": {
    "name": "ipython",
    "version": 3
   },
   "file_extension": ".py",
   "mimetype": "text/x-python",
   "name": "python",
   "nbconvert_exporter": "python",
   "pygments_lexer": "ipython3",
   "version": "3.10.0"
  }
 },
 "nbformat": 4,
 "nbformat_minor": 5
}
