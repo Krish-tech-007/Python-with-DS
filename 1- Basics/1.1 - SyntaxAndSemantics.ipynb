{
 "cells": [
  {
   "cell_type": "markdown",
   "metadata": {},
   "source": [
    "Syntax are the set of rules on how symbols should be used.\n",
    "\n",
    "Semantics refers to the meaning or usage of those symbols."
   ]
  },
  {
   "cell_type": "code",
   "execution_count": 1,
   "metadata": {},
   "outputs": [
    {
     "name": "stdout",
     "output_type": "stream",
     "text": [
      "Ram\n",
      "Krish\n"
     ]
    }
   ],
   "source": [
    "## This is a single line comment\n",
    "\n",
    "\n",
    "## Basic syntax rules:\n",
    "## 1. Case sensitivity - Python is case sensitive\n",
    "\n",
    "name = \"Krish\"\n",
    "Name = \"Ram\"\n",
    "\n",
    "print(Name)\n",
    "print(name)"
   ]
  },
  {
   "cell_type": "markdown",
   "metadata": {},
   "source": [
    "### Indentation\n",
    "Indentation in python is used to define the structure and hierarchy of the code. Unlike many other programming languages that us {} to delimit blocks of code, python uses indentation to define\n"
   ]
  },
  {
   "cell_type": "code",
   "execution_count": 4,
   "metadata": {},
   "outputs": [
    {
     "name": "stdout",
     "output_type": "stream",
     "text": [
      "32\n"
     ]
    }
   ],
   "source": [
    "## Indentation\n",
    "## Python uses indentation to define blocks of code.\n",
    "## Consistent use of spaces (commonly 4) or tab is required\n",
    "age = 32\n",
    "if age>30:\n",
    "    print(age)"
   ]
  },
  {
   "cell_type": "code",
   "execution_count": 14,
   "metadata": {},
   "outputs": [
    {
     "name": "stdout",
     "output_type": "stream",
     "text": [
      "Inside first if block\n",
      "Inside first if block and outside second if block\n",
      "Outside first if block\n"
     ]
    }
   ],
   "source": [
    "## Code example of indentation\n",
    "if True:\n",
    "    print(\"Inside first if block\")\n",
    "    if False:\n",
    "        print(\"Inside second if block\")\n",
    "    print(\"Inside first if block and outside second if block\")\n",
    "print(\"Outside first if block\")"
   ]
  },
  {
   "cell_type": "code",
   "execution_count": 5,
   "metadata": {},
   "outputs": [
    {
     "name": "stdout",
     "output_type": "stream",
     "text": [
      "Hello world\n"
     ]
    }
   ],
   "source": [
    "## Single line comment\n",
    "print(\"Hello world\")\n",
    "## Comments don't get executed by the compiler"
   ]
  },
  {
   "cell_type": "code",
   "execution_count": null,
   "metadata": {},
   "outputs": [
    {
     "name": "stdout",
     "output_type": "stream",
     "text": [
      "45\n"
     ]
    }
   ],
   "source": [
    "## Line continuation\n",
    "total = 1+2+3+4+5+6+7+\\\n",
    "8+9\n",
    "## \\ means the current line is being continued to the next line also\n",
    "print(total)"
   ]
  },
  {
   "cell_type": "code",
   "execution_count": 7,
   "metadata": {},
   "outputs": [
    {
     "name": "stdout",
     "output_type": "stream",
     "text": [
      "15\n"
     ]
    }
   ],
   "source": [
    "## Multiple statements on a single line\n",
    "x=5;y=10;z=x+y\n",
    "print(z)"
   ]
  },
  {
   "cell_type": "code",
   "execution_count": null,
   "metadata": {},
   "outputs": [],
   "source": [
    "## Understanding semantics in python\n",
    "## Variable assignment\n",
    "age = 19 ## age is int\n",
    "name = \"Krish\" ##name is string \n",
    "## Usually in other programming languages, we specify the datatype beforehand\n",
    "## However in python the kernel automatically understands during the runtime"
   ]
  },
  {
   "cell_type": "code",
   "execution_count": null,
   "metadata": {},
   "outputs": [
    {
     "data": {
      "text/plain": [
       "int"
      ]
     },
     "execution_count": 10,
     "metadata": {},
     "output_type": "execute_result"
    }
   ],
   "source": [
    "type(age)"
   ]
  },
  {
   "cell_type": "code",
   "execution_count": 11,
   "metadata": {},
   "outputs": [
    {
     "data": {
      "text/plain": [
       "str"
      ]
     },
     "execution_count": 11,
     "metadata": {},
     "output_type": "execute_result"
    }
   ],
   "source": [
    "type(name)"
   ]
  },
  {
   "cell_type": "code",
   "execution_count": null,
   "metadata": {},
   "outputs": [
    {
     "name": "stdout",
     "output_type": "stream",
     "text": [
      "<class 'int'>\n",
      "<class 'str'>\n"
     ]
    }
   ],
   "source": [
    "## Type inference\n",
    "## Python infers the type of a variable at runtime. This is called as dynamic typing.\n",
    "variable = 10\n",
    "print(type(variable))\n",
    "variable = \"Krish\"\n",
    "print(type(variable))\n",
    "## During runtime, we can change the type of the variable with different values"
   ]
  },
  {
   "cell_type": "code",
   "execution_count": 13,
   "metadata": {},
   "outputs": [
    {
     "ename": "NameError",
     "evalue": "name 'b' is not defined",
     "output_type": "error",
     "traceback": [
      "\u001b[1;31m---------------------------------------------------------------------------\u001b[0m",
      "\u001b[1;31mNameError\u001b[0m                                 Traceback (most recent call last)",
      "Cell \u001b[1;32mIn[13], line 2\u001b[0m\n\u001b[0;32m      1\u001b[0m \u001b[38;5;66;03m## Name error\u001b[39;00m\n\u001b[1;32m----> 2\u001b[0m a \u001b[38;5;241m=\u001b[39m \u001b[43mb\u001b[49m\n",
      "\u001b[1;31mNameError\u001b[0m: name 'b' is not defined"
     ]
    }
   ],
   "source": [
    "## Name error\n",
    "a = b"
   ]
  }
 ],
 "metadata": {
  "kernelspec": {
   "display_name": "Python 3",
   "language": "python",
   "name": "python3"
  },
  "language_info": {
   "codemirror_mode": {
    "name": "ipython",
    "version": 3
   },
   "file_extension": ".py",
   "mimetype": "text/x-python",
   "name": "python",
   "nbconvert_exporter": "python",
   "pygments_lexer": "ipython3",
   "version": "3.10.0"
  }
 },
 "nbformat": 4,
 "nbformat_minor": 2
}
