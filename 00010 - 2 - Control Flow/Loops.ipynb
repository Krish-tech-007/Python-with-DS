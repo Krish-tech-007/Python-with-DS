{
 "cells": [
  {
   "cell_type": "markdown",
   "metadata": {},
   "source": [
    "### Loops\n"
   ]
  },
  {
   "cell_type": "code",
   "execution_count": 1,
   "metadata": {},
   "outputs": [
    {
     "data": {
      "text/plain": [
       "range(0, 5)"
      ]
     },
     "execution_count": 1,
     "metadata": {},
     "output_type": "execute_result"
    }
   ],
   "source": [
    "range(5)"
   ]
  },
  {
   "cell_type": "code",
   "execution_count": null,
   "metadata": {},
   "outputs": [
    {
     "name": "stdout",
     "output_type": "stream",
     "text": [
      "0\n",
      "1\n",
      "2\n",
      "3\n",
      "4\n"
     ]
    }
   ],
   "source": [
    "## for loop\n",
    "## It is used to iterate over a sequence of numbers\n",
    "for i in range(5): #Last number of the range is not included\n",
    "    print(i)\n",
    "#5 is the total number of numbers"
   ]
  },
  {
   "cell_type": "code",
   "execution_count": 3,
   "metadata": {},
   "outputs": [
    {
     "name": "stdout",
     "output_type": "stream",
     "text": [
      "1\n",
      "2\n",
      "3\n",
      "4\n",
      "5\n"
     ]
    }
   ],
   "source": [
    "for i in range(1,6):\n",
    "    print(i)"
   ]
  },
  {
   "cell_type": "code",
   "execution_count": 4,
   "metadata": {},
   "outputs": [
    {
     "data": {
      "text/plain": [
       "range(1, 10)"
      ]
     },
     "execution_count": 4,
     "metadata": {},
     "output_type": "execute_result"
    }
   ],
   "source": [
    "range(1,10,1)\n",
    "# start, stop, step"
   ]
  },
  {
   "cell_type": "code",
   "execution_count": 6,
   "metadata": {},
   "outputs": [
    {
     "name": "stdout",
     "output_type": "stream",
     "text": [
      "1\n",
      "2\n",
      "3\n",
      "4\n",
      "5\n",
      "6\n",
      "7\n",
      "8\n",
      "9\n"
     ]
    }
   ],
   "source": [
    "for i in range(1,10,1):\n",
    "    print(i)"
   ]
  },
  {
   "cell_type": "code",
   "execution_count": 5,
   "metadata": {},
   "outputs": [
    {
     "data": {
      "text/plain": [
       "range(1, 10, 2)"
      ]
     },
     "execution_count": 5,
     "metadata": {},
     "output_type": "execute_result"
    }
   ],
   "source": [
    "range(1,10,2)"
   ]
  },
  {
   "cell_type": "code",
   "execution_count": 7,
   "metadata": {},
   "outputs": [
    {
     "name": "stdout",
     "output_type": "stream",
     "text": [
      "1\n",
      "3\n",
      "5\n",
      "7\n",
      "9\n"
     ]
    }
   ],
   "source": [
    "for i in range(1,10,2):\n",
    "    print(i)"
   ]
  },
  {
   "cell_type": "code",
   "execution_count": 8,
   "metadata": {},
   "outputs": [
    {
     "name": "stdout",
     "output_type": "stream",
     "text": [
      "10\n",
      "9\n",
      "8\n",
      "7\n",
      "6\n",
      "5\n",
      "4\n",
      "3\n",
      "2\n"
     ]
    }
   ],
   "source": [
    "for i in range(10,1,-1):\n",
    "    print (i)"
   ]
  },
  {
   "cell_type": "code",
   "execution_count": 9,
   "metadata": {},
   "outputs": [
    {
     "name": "stdout",
     "output_type": "stream",
     "text": [
      "10\n",
      "8\n",
      "6\n",
      "4\n",
      "2\n"
     ]
    }
   ],
   "source": [
    "for i in range(10,1,-2):\n",
    "    print(i)"
   ]
  },
  {
   "cell_type": "code",
   "execution_count": null,
   "metadata": {},
   "outputs": [
    {
     "name": "stdout",
     "output_type": "stream",
     "text": [
      "K\n",
      "r\n",
      "i\n",
      "s\n",
      "h\n",
      " \n",
      "S\n",
      "h\n",
      "a\n",
      "r\n",
      "m\n",
      "a\n"
     ]
    }
   ],
   "source": [
    "## String\n",
    "str = \"Krish Sharma\"\n",
    "for i in str:\n",
    "    print(i)\n",
    "\n",
    "#String is basically a data structure, a collection of characters and we can also traverse it"
   ]
  },
  {
   "cell_type": "code",
   "execution_count": null,
   "metadata": {},
   "outputs": [],
   "source": [
    "## Main functionality of the for loop is that whenever we have an collection items or data structure, we can traverse it easily"
   ]
  },
  {
   "cell_type": "code",
   "execution_count": 11,
   "metadata": {},
   "outputs": [
    {
     "name": "stdout",
     "output_type": "stream",
     "text": [
      "0\n",
      "1\n",
      "2\n",
      "3\n",
      "4\n"
     ]
    }
   ],
   "source": [
    "## While loop\n",
    "## While loop continues to execute as long as the condition is True\n",
    "\n",
    "count = 0\n",
    "while count<5:\n",
    "    print(count)\n",
    "    count = count + 1\n",
    "    "
   ]
  },
  {
   "cell_type": "code",
   "execution_count": 12,
   "metadata": {},
   "outputs": [
    {
     "name": "stdout",
     "output_type": "stream",
     "text": [
      "0\n",
      "1\n",
      "2\n",
      "3\n",
      "4\n"
     ]
    }
   ],
   "source": [
    "## Loop control statements\n",
    "\n",
    "## break\n",
    "## The break statement exits the loop prematurely\n",
    "\n",
    "for i in range(10): #range is a collection\n",
    "    if i==5:\n",
    "        break\n",
    "    print(i)\n"
   ]
  },
  {
   "cell_type": "code",
   "execution_count": 14,
   "metadata": {},
   "outputs": [
    {
     "name": "stdout",
     "output_type": "stream",
     "text": [
      "1\n",
      "3\n",
      "5\n",
      "7\n",
      "9\n"
     ]
    }
   ],
   "source": [
    "## continue\n",
    "## The continue statement skips the current iteration of the loop and continues with the next\n",
    "\n",
    "for i in range(10):\n",
    "    if i%2==0:\n",
    "        continue\n",
    "    print(i)\n"
   ]
  },
  {
   "cell_type": "code",
   "execution_count": 15,
   "metadata": {},
   "outputs": [],
   "source": [
    "## pass\n",
    "## The pass statement is a null operation, it does nothing.\n",
    "\n",
    "i = 5\n",
    "if(i==5):\n",
    "    pass"
   ]
  },
  {
   "cell_type": "code",
   "execution_count": 16,
   "metadata": {},
   "outputs": [
    {
     "name": "stdout",
     "output_type": "stream",
     "text": [
      "0\n",
      "1\n",
      "2\n",
      "3\n",
      "4\n"
     ]
    }
   ],
   "source": [
    "for i in range(5):\n",
    "    if i==3:\n",
    "        pass\n",
    "    print(i)"
   ]
  },
  {
   "cell_type": "code",
   "execution_count": 18,
   "metadata": {},
   "outputs": [
    {
     "name": "stdout",
     "output_type": "stream",
     "text": [
      "i:0, j:0\n",
      "i:0, j:1\n",
      "i:1, j:0\n",
      "i:1, j:1\n",
      "i:2, j:0\n",
      "i:2, j:1\n"
     ]
    }
   ],
   "source": [
    "## Nested loops\n",
    "## Nested loop is a loop inside a loop\n",
    "for i in range(3):\n",
    "    for j in range(2):\n",
    "        print(f\"i:{i}, j:{j}\") #f-style strings\n",
    "        #f-style strings are another option to display formatted output\n",
    "        #Whenever we want to display the value of the variable, we enclose the variable name within {}\n"
   ]
  },
  {
   "cell_type": "code",
   "execution_count": null,
   "metadata": {},
   "outputs": [
    {
     "name": "stdout",
     "output_type": "stream",
     "text": [
      "Sum of first 3 natural numbers is: 6\n"
     ]
    }
   ],
   "source": [
    "## Example: Calculating the sum of first N natural numbers using for and while loop\n",
    "\n",
    "## Using for loop\n",
    "n = int(input(\"Enter value of N\"))\n",
    "sum = 0\n",
    "for i in range(1,n+1):\n",
    "    sum = sum + i\n",
    "\n",
    "print(f\"Sum of first {n} natural numbers is: {sum}\")"
   ]
  },
  {
   "cell_type": "code",
   "execution_count": 20,
   "metadata": {},
   "outputs": [
    {
     "name": "stdout",
     "output_type": "stream",
     "text": [
      "The sum of first 5 natural numbers is: 15\n"
     ]
    }
   ],
   "source": [
    "## Using while loop\n",
    "n = int(input(\"Enter value of N\"))\n",
    "sum = 0\n",
    "count = 1\n",
    "while count<=n:\n",
    "    sum = sum + count\n",
    "    count = count + 1\n",
    "print(f\"The sum of first {n} natural numbers is: {sum}\")"
   ]
  },
  {
   "cell_type": "code",
   "execution_count": 22,
   "metadata": {},
   "outputs": [
    {
     "name": "stdout",
     "output_type": "stream",
     "text": [
      "1 is a Prime number\n",
      "2 is a Prime number\n",
      "3 is a Prime number\n",
      "5 is a Prime number\n",
      "7 is a Prime number\n",
      "11 is a Prime number\n",
      "13 is a Prime number\n",
      "17 is a Prime number\n",
      "19 is a Prime number\n",
      "23 is a Prime number\n",
      "29 is a Prime number\n",
      "31 is a Prime number\n",
      "37 is a Prime number\n",
      "41 is a Prime number\n",
      "43 is a Prime number\n",
      "47 is a Prime number\n",
      "53 is a Prime number\n",
      "59 is a Prime number\n",
      "61 is a Prime number\n",
      "67 is a Prime number\n",
      "71 is a Prime number\n",
      "73 is a Prime number\n",
      "79 is a Prime number\n",
      "83 is a Prime number\n",
      "89 is a Prime number\n",
      "97 is a Prime number\n"
     ]
    }
   ],
   "source": [
    "## Example: Prime numbers between 1 to 100\n",
    "\n",
    "## For loop\n",
    "for i in range(1,101):\n",
    "    isPrime = True\n",
    "    for j in range(2,(int)(i/2+1)):\n",
    "        if i % j == 0:\n",
    "            isPrime = False\n",
    "            break\n",
    "    if isPrime:\n",
    "        print(i, \"is a Prime number\")"
   ]
  },
  {
   "cell_type": "code",
   "execution_count": null,
   "metadata": {},
   "outputs": [
    {
     "name": "stdout",
     "output_type": "stream",
     "text": [
      "2 is a Prime number\n",
      "3 is a Prime number\n",
      "5 is a Prime number\n",
      "7 is a Prime number\n",
      "11 is a Prime number\n",
      "13 is a Prime number\n",
      "17 is a Prime number\n",
      "19 is a Prime number\n",
      "23 is a Prime number\n",
      "29 is a Prime number\n",
      "31 is a Prime number\n",
      "37 is a Prime number\n",
      "41 is a Prime number\n",
      "43 is a Prime number\n",
      "47 is a Prime number\n",
      "53 is a Prime number\n",
      "59 is a Prime number\n",
      "61 is a Prime number\n",
      "67 is a Prime number\n",
      "71 is a Prime number\n",
      "73 is a Prime number\n",
      "79 is a Prime number\n",
      "83 is a Prime number\n",
      "89 is a Prime number\n",
      "97 is a Prime number\n"
     ]
    }
   ],
   "source": [
    "## Alternate solution\n",
    "\n",
    "for i in range(1,101):\n",
    "    if i>1:\n",
    "        for j in range(2, i):\n",
    "            if i%j==0:\n",
    "                break #break keyword exits the for loop and the corresponding else block is not executed as we;;\n",
    "        else: #the else keyword in a for loop specifies a block of code to be executed when the loop is finished\n",
    "            print(f\"{i} is a Prime number\")"
   ]
  },
  {
   "cell_type": "markdown",
   "metadata": {},
   "source": [
    "### Conclusion\n",
    "Loops are powerful constructs that allow us to execute a block of code multiple times."
   ]
  }
 ],
 "metadata": {
  "kernelspec": {
   "display_name": "Python 3",
   "language": "python",
   "name": "python3"
  },
  "language_info": {
   "codemirror_mode": {
    "name": "ipython",
    "version": 3
   },
   "file_extension": ".py",
   "mimetype": "text/x-python",
   "name": "python",
   "nbconvert_exporter": "python",
   "pygments_lexer": "ipython3",
   "version": "3.10.0"
  }
 },
 "nbformat": 4,
 "nbformat_minor": 2
}
