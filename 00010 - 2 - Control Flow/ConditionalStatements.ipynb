{
 "cells": [
  {
   "cell_type": "markdown",
   "metadata": {},
   "source": [
    "### Conditional Statements (if, elif, else)\n"
   ]
  },
  {
   "cell_type": "code",
   "execution_count": null,
   "metadata": {},
   "outputs": [
    {
     "name": "stdout",
     "output_type": "stream",
     "text": [
      "You are allowed to vote in the elections\n"
     ]
    }
   ],
   "source": [
    "## If statement\n",
    "## Evaluates and executes a block of code within it if the condition is True\n",
    "age = 20\n",
    "if age > 18:\n",
    "    print(\"You are allowed to vote in the elections\")"
   ]
  },
  {
   "cell_type": "code",
   "execution_count": 3,
   "metadata": {},
   "outputs": [
    {
     "data": {
      "text/plain": [
       "True"
      ]
     },
     "execution_count": 3,
     "metadata": {},
     "output_type": "execute_result"
    }
   ],
   "source": [
    "age >= 18"
   ]
  },
  {
   "cell_type": "code",
   "execution_count": 4,
   "metadata": {},
   "outputs": [
    {
     "name": "stdout",
     "output_type": "stream",
     "text": [
      "You are not elligibile to vote\n"
     ]
    }
   ],
   "source": [
    "## else\n",
    "## The else statement executes the block of code within it if the condition within the if statement is False\n",
    "age = 16\n",
    "if age>=18:\n",
    "    print(\"You are elligibile to vote\")\n",
    "else:\n",
    "    print(\"You are not elligibile to vote\")"
   ]
  },
  {
   "cell_type": "code",
   "execution_count": 5,
   "metadata": {},
   "outputs": [
    {
     "name": "stdout",
     "output_type": "stream",
     "text": [
      "You are an adult\n"
     ]
    }
   ],
   "source": [
    "## elif\n",
    "## elif stands for else if, and it allows to check for multiple conditions\n",
    "age = 19\n",
    "if age<13:\n",
    "    print(\"You are a child\")\n",
    "elif age<18:\n",
    "    print(\"You are a teenager\")\n",
    "else:\n",
    "    print(\"You are an adult\")"
   ]
  },
  {
   "cell_type": "code",
   "execution_count": 6,
   "metadata": {},
   "outputs": [
    {
     "name": "stdout",
     "output_type": "stream",
     "text": [
      "Even number\n"
     ]
    }
   ],
   "source": [
    "## Nested conditional statements\n",
    "## We can place one or more, if, elif or else statements inside another if, elif, else statmenents to create nested conditional statements\n",
    "num = int(input(\"Enter a number: \"))\n",
    "if num > 0:\n",
    "    if num%2==0:\n",
    "        print(\"Even number\")\n",
    "    else:\n",
    "        print(\"Odd number\")\n",
    "else:\n",
    "    print(\"Zero or negative number\")"
   ]
  },
  {
   "cell_type": "code",
   "execution_count": null,
   "metadata": {},
   "outputs": [
    {
     "name": "stdout",
     "output_type": "stream",
     "text": [
      "Leap year\n",
      "Leap year\n",
      "Not a leap uear\n"
     ]
    }
   ],
   "source": [
    "## Examples\n",
    "\n",
    "## Determining if a number is a leap year\n",
    "\n",
    "year = int(input(\"Enter year: \"))\n",
    "if year%4==0:\n",
    "    if year%100==0:\n",
    "        if year%400==0:\n",
    "            print(year, \" is a leap year\")\n",
    "        else:\n",
    "            print(year, \" is not a leap year\")\n",
    "    print(year, \" is a leap year\")\n",
    "print(year, \" is not a leap uear\") "
   ]
  }
 ],
 "metadata": {
  "kernelspec": {
   "display_name": "Python 3",
   "language": "python",
   "name": "python3"
  },
  "language_info": {
   "codemirror_mode": {
    "name": "ipython",
    "version": 3
   },
   "file_extension": ".py",
   "mimetype": "text/x-python",
   "name": "python",
   "nbconvert_exporter": "python",
   "pygments_lexer": "ipython3",
   "version": "3.10.0"
  }
 },
 "nbformat": 4,
 "nbformat_minor": 2
}
