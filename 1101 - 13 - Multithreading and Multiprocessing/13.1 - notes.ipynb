{
 "cells": [
  {
   "cell_type": "markdown",
   "id": "cc391e0c",
   "metadata": {},
   "source": [
    "### Multithreading and Multiprocessing"
   ]
  },
  {
   "cell_type": "markdown",
   "id": "96f25f50",
   "metadata": {},
   "source": [
    "#### Program"
   ]
  },
  {
   "cell_type": "markdown",
   "id": "298d59ac",
   "metadata": {},
   "source": [
    "A program is a sequence of instruction written in Programming language, eg: Python, C, C++.\n",
    "Eg: Chrome browser is a program."
   ]
  },
  {
   "cell_type": "markdown",
   "id": "08cadacb",
   "metadata": {},
   "source": [
    "#### Process"
   ]
  },
  {
   "cell_type": "markdown",
   "id": "af0e0c55",
   "metadata": {},
   "source": [
    "A process is an instance of program that is being executed.    \n",
    "Eg: When we double click google chrome, an instance of the program would get opened.     \n",
    "    \n",
    "The Operating System resources that are required are:    \n",
    "Code Segment    \n",
    "Data Segment - List of all global and static variables    \n",
    "Heap Memory - Dynamic Allocation of memory   \n",
    "Stack - local variable, function calls   \n",
    "Register - Smaller memory    \n",
    "\n",
    "Every process will have a separate memory space \n",
    "Therefore one process cannot corrupt another process.   \n",
    "\n",
    "Because resources are shared, there is increase in execution time when switching from one process to another.   \n",
    "\n",
    "Every process has it's own ID.  \n"
   ]
  },
  {
   "cell_type": "markdown",
   "id": "580a86f7",
   "metadata": {},
   "source": [
    "#### Threads"
   ]
  },
  {
   "cell_type": "markdown",
   "id": "a644e145",
   "metadata": {},
   "source": [
    "A thread is an unit of execution within a process.     \n",
    "Eg: When we open MS Paint, it is opened as a process.    \n",
    "    When we use the line tool, a thread gets created.   \n",
    "    With the help of the thread, we will be able to draw a line.     \n",
    "\n",
    "Multiple types: \n",
    "Single Threaded Process: Single thread will have it's own stack and register, but it will be sharing the code segement, data segment and heap from the process itself.      \n",
    "Multi Threaded Process: Each thread will have it's own stack and register, remaining everyting will be shared from the process."
   ]
  }
 ],
 "metadata": {
  "language_info": {
   "name": "python"
  }
 },
 "nbformat": 4,
 "nbformat_minor": 5
}
