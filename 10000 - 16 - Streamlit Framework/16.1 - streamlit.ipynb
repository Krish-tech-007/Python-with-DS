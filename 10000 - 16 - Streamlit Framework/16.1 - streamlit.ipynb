{
 "cells": [
  {
   "cell_type": "markdown",
   "id": "04603647",
   "metadata": {},
   "source": [
    "### Introduction to Streamlit"
   ]
  },
  {
   "cell_type": "markdown",
   "id": "1f81ac2c",
   "metadata": {},
   "source": [
    "Streamlit is an open-source app framework for Machine Learning and Data Science projects.    \n",
    "It allows for the creation of beautiful web applications for machine learning and data science projects with simple Python Scripts."
   ]
  },
  {
   "cell_type": "code",
   "execution_count": 1,
   "id": "efd3ec33",
   "metadata": {},
   "outputs": [],
   "source": [
    "import streamlit as st"
   ]
  },
  {
   "cell_type": "markdown",
   "id": "ef672002",
   "metadata": {},
   "source": [
    "streamlit.io - Website for documentation"
   ]
  },
  {
   "cell_type": "markdown",
   "id": "1dd086b2",
   "metadata": {},
   "source": [
    "File order:\n",
    "1. app.py\n",
    "2. widgets.py\n",
    "3. classification.py"
   ]
  }
 ],
 "metadata": {
  "kernelspec": {
   "display_name": "Python 3",
   "language": "python",
   "name": "python3"
  },
  "language_info": {
   "codemirror_mode": {
    "name": "ipython",
    "version": 3
   },
   "file_extension": ".py",
   "mimetype": "text/x-python",
   "name": "python",
   "nbconvert_exporter": "python",
   "pygments_lexer": "ipython3",
   "version": "3.10.0"
  }
 },
 "nbformat": 4,
 "nbformat_minor": 5
}
