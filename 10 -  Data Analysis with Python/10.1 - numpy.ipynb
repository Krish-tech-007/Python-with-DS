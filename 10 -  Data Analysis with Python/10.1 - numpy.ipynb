{
 "cells": [
  {
   "cell_type": "markdown",
   "id": "4896cbaa",
   "metadata": {},
   "source": [
    "### NumPy"
   ]
  },
  {
   "cell_type": "markdown",
   "id": "cf51251b",
   "metadata": {},
   "source": [
    "NumPy is a fundamental library for scientific computing in Python.    \n",
    "It provides support for arrays and matrices, along with a collection of mathematical functions to operate on these data structures.   \n"
   ]
  },
  {
   "cell_type": "code",
   "execution_count": 2,
   "id": "d8e5a3ef",
   "metadata": {},
   "outputs": [],
   "source": [
    "import numpy as np #np is an alias for numpy"
   ]
  },
  {
   "cell_type": "code",
   "execution_count": 6,
   "id": "2775ca8c",
   "metadata": {},
   "outputs": [
    {
     "name": "stdout",
     "output_type": "stream",
     "text": [
      "[1 2 3 4 5]\n",
      "<class 'numpy.ndarray'>\n",
      "(5,)\n"
     ]
    }
   ],
   "source": [
    "## Create arrays using numpy\n",
    "\n",
    "# Creating a 1D array\n",
    "arr1 = np.array([1,2,3,4,5])\n",
    "print(arr1)\n",
    "print(type(arr1))\n",
    "print(arr1.shape)\n"
   ]
  },
  {
   "cell_type": "code",
   "execution_count": null,
   "id": "0b1c6a0a",
   "metadata": {},
   "outputs": [
    {
     "data": {
      "text/plain": [
       "array([[1, 2, 3, 4, 5]])"
      ]
     },
     "execution_count": 7,
     "metadata": {},
     "output_type": "execute_result"
    }
   ],
   "source": [
    "arr2 = np.array([1,2,3,4,5])\n",
    "arr2.reshape(1,5) #1 row, 5 columns\n",
    "# Reshaping into 1,4 won't work because there are 5 elements\n",
    "# No. of square braces (considering either opening or closing) is equal to the number of dimensions"
   ]
  },
  {
   "cell_type": "code",
   "execution_count": 8,
   "id": "a479e3d2",
   "metadata": {},
   "outputs": [
    {
     "name": "stdout",
     "output_type": "stream",
     "text": [
      "(1, 5)\n"
     ]
    }
   ],
   "source": [
    "arr2 = np.array([[1,2,3,4,5]]) #Using nested list\n",
    "print(arr2.shape)"
   ]
  },
  {
   "cell_type": "code",
   "execution_count": null,
   "id": "570176d3",
   "metadata": {},
   "outputs": [
    {
     "name": "stdout",
     "output_type": "stream",
     "text": [
      "[[ 1  2  3  4  5]\n",
      " [ 6  7  8  9 10]]\n",
      "(2, 5)\n"
     ]
    }
   ],
   "source": [
    "# 2D array\n",
    "arr2 = np.array([[1,2,3,4,5],[6,7,8,9,10]])\n",
    "print(arr2)\n",
    "print(arr2.shape)"
   ]
  },
  {
   "cell_type": "code",
   "execution_count": 13,
   "id": "42930b29",
   "metadata": {},
   "outputs": [
    {
     "name": "stdout",
     "output_type": "stream",
     "text": [
      "[0 2 4 6 8]\n",
      "[[0]\n",
      " [2]\n",
      " [4]\n",
      " [6]\n",
      " [8]]\n"
     ]
    }
   ],
   "source": [
    "arr3 = np.arange(0,10,2)\n",
    "print(arr3)\n",
    "arr3 = arr3.reshape(5,1)\n",
    "print(arr3)"
   ]
  },
  {
   "cell_type": "code",
   "execution_count": 14,
   "id": "5f5522b9",
   "metadata": {},
   "outputs": [
    {
     "name": "stdout",
     "output_type": "stream",
     "text": [
      "[[1. 1. 1. 1.]\n",
      " [1. 1. 1. 1.]\n",
      " [1. 1. 1. 1.]]\n"
     ]
    }
   ],
   "source": [
    "arr4 = np.ones((3,4))\n",
    "print(arr4)"
   ]
  },
  {
   "cell_type": "code",
   "execution_count": 17,
   "id": "a940f14c",
   "metadata": {},
   "outputs": [
    {
     "name": "stdout",
     "output_type": "stream",
     "text": [
      "[[1. 0. 0.]\n",
      " [0. 1. 0.]\n",
      " [0. 0. 1.]]\n"
     ]
    }
   ],
   "source": [
    "## Identity matrix or array\n",
    "## All the principal diagonal elements are 1, rest all are 0\n",
    "arr5 = np.eye(3)\n",
    "print(arr5)"
   ]
  },
  {
   "cell_type": "code",
   "execution_count": null,
   "id": "2218bd8a",
   "metadata": {},
   "outputs": [
    {
     "name": "stdout",
     "output_type": "stream",
     "text": [
      "Array:\n",
      " [[1 2 3]\n",
      " [4 5 6]]\n",
      "Shape:  (2, 3)\n",
      "Number of dimensions:  2\n",
      "Size (number of elements):  6\n",
      "Datatype:  int64\n",
      "Item size (in bytes):  8\n"
     ]
    }
   ],
   "source": [
    "## Attributes of NumPy array\n",
    "\n",
    "arr = np.array([[1,2,3],[4,5,6]])\n",
    "print(\"Array:\\n\", arr) # Array\n",
    "print(\"Shape: \", arr.shape)\n",
    "print(\"Number of dimensions: \", arr.ndim)\n",
    "print(\"Size (number of elements): \", arr.size)\n",
    "print(\"Datatype: \", arr.dtype) #may vary depending on platform\n",
    "print(\"Item size (in bytes): \", arr.itemsize) #may vary based on platform"
   ]
  },
  {
   "cell_type": "code",
   "execution_count": null,
   "id": "f2618418",
   "metadata": {},
   "outputs": [
    {
     "name": "stdout",
     "output_type": "stream",
     "text": [
      "Addittion:  [11 22 33 44 55]\n",
      "Subtraction:  [ 9 18 27 36 45]\n",
      "Multiplication:  [ 10  40  90 160 250]\n",
      "Division:  [10. 10. 10. 10. 10.]\n"
     ]
    }
   ],
   "source": [
    "## Numpy vectorized operations\n",
    "## Return type will be array\n",
    "arr1 = np.array([1,2,3,4,5])\n",
    "arr2 = np.array([10,20,30,40,50])\n",
    "\n",
    "## Element wise addittion\n",
    "print(\"Adittion: \", arr1+arr2)\n",
    "\n",
    "## Element wise subtraction\n",
    "print(\"Subtraction: \", arr2-arr1)\n",
    "\n",
    "## Element wise multiplication\n",
    "print(\"Multiplication: \", arr1*arr2)\n",
    "\n",
    "## Element wise division\n",
    "print(\"Division: \", arr2/arr1)"
   ]
  },
  {
   "cell_type": "code",
   "execution_count": 31,
   "id": "2a905f47",
   "metadata": {},
   "outputs": [
    {
     "name": "stdout",
     "output_type": "stream",
     "text": [
      "[1.         1.41421356 1.73205081 2.         2.23606798]\n",
      "[  2.71828183   7.3890561   20.08553692  54.59815003 148.4131591 ]\n",
      "[ 0.84147098  0.90929743  0.14112001 -0.7568025  -0.95892427]\n",
      "[0.         0.69314718 1.09861229 1.38629436 1.60943791]\n"
     ]
    }
   ],
   "source": [
    "## Universal functions\n",
    "## Applies to the entire array\n",
    "arr = np.array([1,2,3,4,5])\n",
    "\n",
    "## square root\n",
    "print(np.sqrt(arr))\n",
    "\n",
    "## exponential\n",
    "print(np.exp(arr))\n",
    "\n",
    "## sine\n",
    "print(np.sin(arr))\n",
    "\n",
    "## natural log\n",
    "print(np.log(arr))"
   ]
  },
  {
   "cell_type": "code",
   "execution_count": 44,
   "id": "7ca2c878",
   "metadata": {},
   "outputs": [
    {
     "name": "stdout",
     "output_type": "stream",
     "text": [
      "[[1 2 3]\n",
      " [4 5 6]\n",
      " [7 8 9]]\n"
     ]
    }
   ],
   "source": [
    "## Array slicing and indexing\n",
    "arr = np.array([[1,2,3],[4,5,6],[7,8,9]])\n",
    "print(arr)\n",
    "\n",
    "## Accessing any element = arr[row][column]"
   ]
  },
  {
   "cell_type": "code",
   "execution_count": null,
   "id": "cc9b9b06",
   "metadata": {},
   "outputs": [
    {
     "data": {
      "text/plain": [
       "array([1, 2, 3])"
      ]
     },
     "execution_count": 33,
     "metadata": {},
     "output_type": "execute_result"
    }
   ],
   "source": [
    "arr[0] #Gets the first row"
   ]
  },
  {
   "cell_type": "code",
   "execution_count": 34,
   "id": "5a6f5899",
   "metadata": {},
   "outputs": [
    {
     "data": {
      "text/plain": [
       "np.int64(1)"
      ]
     },
     "execution_count": 34,
     "metadata": {},
     "output_type": "execute_result"
    }
   ],
   "source": [
    "arr[0][0] #Gets the first element in the first row"
   ]
  },
  {
   "cell_type": "code",
   "execution_count": 38,
   "id": "d107f91e",
   "metadata": {},
   "outputs": [
    {
     "data": {
      "text/plain": [
       "array([[1, 2, 3],\n",
       "       [4, 5, 6],\n",
       "       [7, 8, 9]])"
      ]
     },
     "execution_count": 38,
     "metadata": {},
     "output_type": "execute_result"
    }
   ],
   "source": [
    "arr"
   ]
  },
  {
   "cell_type": "code",
   "execution_count": null,
   "id": "a542d6d4",
   "metadata": {},
   "outputs": [
    {
     "data": {
      "text/plain": [
       "array([[5, 6],\n",
       "       [8, 9]])"
      ]
     },
     "execution_count": 37,
     "metadata": {},
     "output_type": "execute_result"
    }
   ],
   "source": [
    "## Displaying 5,6,8,9 only\n",
    "arr[1:,1:]"
   ]
  },
  {
   "cell_type": "code",
   "execution_count": 39,
   "id": "87c9f598",
   "metadata": {},
   "outputs": [
    {
     "data": {
      "text/plain": [
       "array([[2, 3],\n",
       "       [5, 6]])"
      ]
     },
     "execution_count": 39,
     "metadata": {},
     "output_type": "execute_result"
    }
   ],
   "source": [
    "## Displaying 2,3,5,6\n",
    "arr[0:2,1:]"
   ]
  },
  {
   "cell_type": "code",
   "execution_count": 40,
   "id": "b4652f73",
   "metadata": {},
   "outputs": [
    {
     "data": {
      "text/plain": [
       "array([2, 5, 8])"
      ]
     },
     "execution_count": 40,
     "metadata": {},
     "output_type": "execute_result"
    }
   ],
   "source": [
    "## Displaying 2,5,8\n",
    "arr[0:,1]"
   ]
  },
  {
   "cell_type": "code",
   "execution_count": 42,
   "id": "65ac7e04",
   "metadata": {},
   "outputs": [
    {
     "name": "stdout",
     "output_type": "stream",
     "text": [
      "[[1 2 3]\n",
      " [4 5 6]\n",
      " [7 8 9]]\n",
      "[[100   2   3]\n",
      " [  4   5   6]\n",
      " [  7   8   9]]\n"
     ]
    }
   ],
   "source": [
    "## Modify array elements\n",
    "print(arr)\n",
    "arr[0,0] = 100\n",
    "print(arr)"
   ]
  },
  {
   "cell_type": "code",
   "execution_count": 45,
   "id": "28cb7375",
   "metadata": {},
   "outputs": [
    {
     "name": "stdout",
     "output_type": "stream",
     "text": [
      "[[1 2 3]\n",
      " [4 5 6]\n",
      " [7 8 9]]\n",
      "[[100 100 100]\n",
      " [  4   5   6]\n",
      " [  7   8   9]]\n"
     ]
    }
   ],
   "source": [
    "## Modifying multiple array elements\n",
    "print(arr)\n",
    "arr[0,0:] = 100\n",
    "print(arr)"
   ]
  },
  {
   "cell_type": "code",
   "execution_count": 46,
   "id": "1a49ed9c",
   "metadata": {},
   "outputs": [
    {
     "name": "stdout",
     "output_type": "stream",
     "text": [
      "Normalized data:  [-1.41421356 -0.70710678  0.          0.70710678  1.41421356]\n"
     ]
    }
   ],
   "source": [
    "## Practical application\n",
    "## Statistical concept -- Normalization\n",
    "## To change the data such that it has a mean of 0 and standard deviation of 1\n",
    "data = np.array([1,2,3,4,5])\n",
    "\n",
    "## Calculating the mean and standard deviatio\n",
    "mean = np.mean(data)\n",
    "std_dev = np.std(data)\n",
    "\n",
    "## Normalizing the data\n",
    "normalized_data = (data-mean) / std_dev\n",
    "print(\"Normalized data: \", normalized_data)\n"
   ]
  },
  {
   "cell_type": "code",
   "execution_count": 47,
   "id": "0fe9e463",
   "metadata": {},
   "outputs": [
    {
     "name": "stdout",
     "output_type": "stream",
     "text": [
      "Mean:  5.5\n",
      "Median:  5.5\n",
      "Standard deviation:  2.8722813232690143\n",
      "Variance:  8.25\n"
     ]
    }
   ],
   "source": [
    "data = np.array([1,2,3,4,5,6,7,8,9,10])\n",
    "\n",
    "## Mean\n",
    "mean = np.mean(data)\n",
    "print(\"Mean: \", mean)\n",
    "\n",
    "## Median\n",
    "median = np.median(data)\n",
    "print(\"Median: \", median)\n",
    "\n",
    "## Standard Deviation\n",
    "std_dev = np.std(data)\n",
    "print(\"Standard deviation: \", std_dev)\n",
    "\n",
    "## Variance\n",
    "variance = np.var(data)\n",
    "print(\"Variance: \", variance)"
   ]
  },
  {
   "cell_type": "code",
   "execution_count": 48,
   "id": "bb6feda3",
   "metadata": {},
   "outputs": [
    {
     "data": {
      "text/plain": [
       "array([False, False, False, False, False,  True,  True,  True,  True,\n",
       "        True])"
      ]
     },
     "execution_count": 48,
     "metadata": {},
     "output_type": "execute_result"
    }
   ],
   "source": [
    "## Logical operation\n",
    "data = np.array([1,2,3,4,5,6,7,8,9,10])\n",
    "data > 5"
   ]
  },
  {
   "cell_type": "code",
   "execution_count": 49,
   "id": "abb3d53d",
   "metadata": {},
   "outputs": [
    {
     "data": {
      "text/plain": [
       "array([ 6,  7,  8,  9, 10])"
      ]
     },
     "execution_count": 49,
     "metadata": {},
     "output_type": "execute_result"
    }
   ],
   "source": [
    "## Retrieving all the elements that are greater than 5\n",
    "data[data>5]"
   ]
  },
  {
   "cell_type": "code",
   "execution_count": 52,
   "id": "24c27ee7",
   "metadata": {},
   "outputs": [
    {
     "data": {
      "text/plain": [
       "array([6, 7, 8, 9])"
      ]
     },
     "execution_count": 52,
     "metadata": {},
     "output_type": "execute_result"
    }
   ],
   "source": [
    "## Retrieving all the elements taht are greater than 5 but less than or equal to 9\n",
    "data[(data > 5) & (data <= 9)]"
   ]
  },
  {
   "cell_type": "code",
   "execution_count": 53,
   "id": "bd689a86",
   "metadata": {},
   "outputs": [
    {
     "data": {
      "text/plain": [
       "array([ 1,  2,  3,  4,  9, 10])"
      ]
     },
     "execution_count": 53,
     "metadata": {},
     "output_type": "execute_result"
    }
   ],
   "source": [
    "## Retrieving all the values that are outside the range 5 to 8\n",
    "data[(data<5) | (data > 8)]"
   ]
  }
 ],
 "metadata": {
  "kernelspec": {
   "display_name": "Python 3",
   "language": "python",
   "name": "python3"
  },
  "language_info": {
   "codemirror_mode": {
    "name": "ipython",
    "version": 3
   },
   "file_extension": ".py",
   "mimetype": "text/x-python",
   "name": "python",
   "nbconvert_exporter": "python",
   "pygments_lexer": "ipython3",
   "version": "3.10.0"
  }
 },
 "nbformat": 4,
 "nbformat_minor": 5
}
