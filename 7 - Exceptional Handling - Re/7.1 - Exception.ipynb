{
 "cells": [
  {
   "cell_type": "markdown",
   "id": "52ee60b1",
   "metadata": {},
   "source": [
    "### Understanding Exceptions"
   ]
  },
  {
   "cell_type": "code",
   "execution_count": null,
   "id": "2abc60c1",
   "metadata": {},
   "outputs": [],
   "source": []
  },
  {
   "cell_type": "code",
   "execution_count": null,
   "id": "58802976",
   "metadata": {},
   "outputs": [
    {
     "ename": "",
     "evalue": "",
     "output_type": "error",
     "traceback": [
      "\u001b[1;31mRunning cells with 'venv (Python 3.10.0)' requires the ipykernel package.\n",
      "\u001b[1;31mInstall 'ipykernel' into the Python environment. \n",
      "\u001b[1;31mCommand: 'conda install -p d:\\Python Data Science ML Bootcamp Krish\\Python\\7 - Exceptional Handling\\venv ipykernel --update-deps --force-reinstall'"
     ]
    }
   ],
   "source": [
    "1 + 1"
   ]
  }
 ],
 "metadata": {
  "kernelspec": {
   "display_name": "Python 3",
   "language": "python",
   "name": "python3"
  },
  "language_info": {
   "name": "python",
   "version": "3.10.0"
  }
 },
 "nbformat": 4,
 "nbformat_minor": 5
}
