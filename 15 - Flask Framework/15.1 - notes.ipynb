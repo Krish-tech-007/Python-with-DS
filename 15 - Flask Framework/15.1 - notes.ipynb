{
 "cells": [
  {
   "cell_type": "markdown",
   "id": "05e47b2c",
   "metadata": {},
   "source": [
    "### Flask Framework"
   ]
  },
  {
   "cell_type": "markdown",
   "id": "dbe5fc9b",
   "metadata": {},
   "source": [
    "It is used to develop end to end web application.   \n",
    "To demonstrate a project, we may need to create a web application.   "
   ]
  },
  {
   "cell_type": "markdown",
   "id": "09df461a",
   "metadata": {},
   "source": [
    "Flask framework is a complete web framework which is created with the help of Python programming language.  \n",
    "\n",
    "Web Server is where we deploy our entire web application which is created by Flask framework.   \n",
    "It may be available in AWS E2 instance or Azure app or Apache or ILS server based on requirement.   \n",
    "\n",
    "When a request is received by the web server, it redirects the request to the web app.  \n",
    "In order to redirect the request and get the response back, WSGI (Web Server Gateway Interface) protocol would be followed. \n",
    "Based on the protocol, the request will get redirected to the web app and the web app will provide some kind of response.   \n",
    "The response would then be sent to the end user.     \n",
    "Governs the communication between the web server and the web application.\n"
   ]
  },
  {
   "cell_type": "markdown",
   "id": "3dc0ce38",
   "metadata": {},
   "source": [
    "Jija 2 Template Engine:     \n",
    "Jinja 2 is a web template engine \n",
    "A web template engine combines a web template (any page in a website) with a data source (SQL DB, CSV sheet, ML Model, MongoDB).    \n",
    "From the data source we will be getting the data inside the web template and then the entire web page will be loaded.    \n",
    "Thus we can create dynamic web pages.   \n"
   ]
  },
  {
   "cell_type": "code",
   "execution_count": null,
   "id": "670e59b1",
   "metadata": {},
   "outputs": [],
   "source": [
    "### Simple Flask Web Application\n",
    "## Basic Skeleton\n",
    "from flask import Flask\n",
    "\n",
    "## Initializing the flask app\n",
    "app = Flask(__name__) ## It creates an instance of the Flask class, which will be our WSGI (Web Server Gateway Interface) application.\n",
    "\n",
    "\n",
    "## Running the Flask app\n",
    "if __name__ == '__main__': ## Entry point of any .py file\n",
    "    app.run()\n"
   ]
  }
 ],
 "metadata": {
  "kernelspec": {
   "display_name": "Python 3",
   "language": "python",
   "name": "python3"
  },
  "language_info": {
   "name": "python",
   "version": "3.10.0"
  }
 },
 "nbformat": 4,
 "nbformat_minor": 5
}
